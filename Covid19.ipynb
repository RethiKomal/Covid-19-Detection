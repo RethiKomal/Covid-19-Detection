{
 "cells": [
  {
   "cell_type": "code",
   "execution_count": 3,
   "metadata": {
    "executionInfo": {
     "elapsed": 580,
     "status": "ok",
     "timestamp": 1672575625706,
     "user": {
      "displayName": "Komal Rethi",
      "userId": "17481055191155146212"
     },
     "user_tz": -330
    },
    "id": "ewxG_7oAw1pc"
   },
   "outputs": [],
   "source": [
    "import pandas as pd\n",
    "import numpy as np\n",
    "import matplotlib.pyplot as plt\n",
    "import seaborn as sns"
   ]
  },
  {
   "cell_type": "code",
   "execution_count": 4,
   "metadata": {
    "colab": {
     "base_uri": "https://localhost:8080/",
     "height": 299
    },
    "executionInfo": {
     "elapsed": 491,
     "status": "ok",
     "timestamp": 1672575627154,
     "user": {
      "displayName": "Komal Rethi",
      "userId": "17481055191155146212"
     },
     "user_tz": -330
    },
    "id": "EBJe1XTDyCKO",
    "outputId": "4440f9d7-56d4-441a-9aad-8590897dca31"
   },
   "outputs": [
    {
     "data": {
      "text/html": [
       "\n",
       "  <div id=\"df-0edafb1b-ff29-4b5b-b7ad-5acfe838f05f\">\n",
       "    <div class=\"colab-df-container\">\n",
       "      <div>\n",
       "<style scoped>\n",
       "    .dataframe tbody tr th:only-of-type {\n",
       "        vertical-align: middle;\n",
       "    }\n",
       "\n",
       "    .dataframe tbody tr th {\n",
       "        vertical-align: top;\n",
       "    }\n",
       "\n",
       "    .dataframe thead th {\n",
       "        text-align: right;\n",
       "    }\n",
       "</style>\n",
       "<table border=\"1\" class=\"dataframe\">\n",
       "  <thead>\n",
       "    <tr style=\"text-align: right;\">\n",
       "      <th></th>\n",
       "      <th>USMER</th>\n",
       "      <th>MEDICAL_UNIT</th>\n",
       "      <th>SEX</th>\n",
       "      <th>PATIENT_TYPE</th>\n",
       "      <th>DATE_DIED</th>\n",
       "      <th>INTUBED</th>\n",
       "      <th>PNEUMONIA</th>\n",
       "      <th>AGE</th>\n",
       "      <th>PREGNANT</th>\n",
       "      <th>DIABETES</th>\n",
       "      <th>...</th>\n",
       "      <th>ASTHMA</th>\n",
       "      <th>INMSUPR</th>\n",
       "      <th>HIPERTENSION</th>\n",
       "      <th>OTHER_DISEASE</th>\n",
       "      <th>CARDIOVASCULAR</th>\n",
       "      <th>OBESITY</th>\n",
       "      <th>RENAL_CHRONIC</th>\n",
       "      <th>TOBACCO</th>\n",
       "      <th>CLASIFFICATION_FINAL</th>\n",
       "      <th>ICU</th>\n",
       "    </tr>\n",
       "  </thead>\n",
       "  <tbody>\n",
       "    <tr>\n",
       "      <th>0</th>\n",
       "      <td>2</td>\n",
       "      <td>1</td>\n",
       "      <td>1</td>\n",
       "      <td>1</td>\n",
       "      <td>03/05/2020</td>\n",
       "      <td>97</td>\n",
       "      <td>1</td>\n",
       "      <td>65</td>\n",
       "      <td>2</td>\n",
       "      <td>2</td>\n",
       "      <td>...</td>\n",
       "      <td>2</td>\n",
       "      <td>2</td>\n",
       "      <td>1</td>\n",
       "      <td>2</td>\n",
       "      <td>2</td>\n",
       "      <td>2</td>\n",
       "      <td>2</td>\n",
       "      <td>2</td>\n",
       "      <td>3</td>\n",
       "      <td>97</td>\n",
       "    </tr>\n",
       "    <tr>\n",
       "      <th>1</th>\n",
       "      <td>2</td>\n",
       "      <td>1</td>\n",
       "      <td>2</td>\n",
       "      <td>1</td>\n",
       "      <td>03/06/2020</td>\n",
       "      <td>97</td>\n",
       "      <td>1</td>\n",
       "      <td>72</td>\n",
       "      <td>97</td>\n",
       "      <td>2</td>\n",
       "      <td>...</td>\n",
       "      <td>2</td>\n",
       "      <td>2</td>\n",
       "      <td>1</td>\n",
       "      <td>2</td>\n",
       "      <td>2</td>\n",
       "      <td>1</td>\n",
       "      <td>1</td>\n",
       "      <td>2</td>\n",
       "      <td>5</td>\n",
       "      <td>97</td>\n",
       "    </tr>\n",
       "    <tr>\n",
       "      <th>2</th>\n",
       "      <td>2</td>\n",
       "      <td>1</td>\n",
       "      <td>2</td>\n",
       "      <td>2</td>\n",
       "      <td>09/06/2020</td>\n",
       "      <td>1</td>\n",
       "      <td>2</td>\n",
       "      <td>55</td>\n",
       "      <td>97</td>\n",
       "      <td>1</td>\n",
       "      <td>...</td>\n",
       "      <td>2</td>\n",
       "      <td>2</td>\n",
       "      <td>2</td>\n",
       "      <td>2</td>\n",
       "      <td>2</td>\n",
       "      <td>2</td>\n",
       "      <td>2</td>\n",
       "      <td>2</td>\n",
       "      <td>3</td>\n",
       "      <td>2</td>\n",
       "    </tr>\n",
       "    <tr>\n",
       "      <th>3</th>\n",
       "      <td>2</td>\n",
       "      <td>1</td>\n",
       "      <td>1</td>\n",
       "      <td>1</td>\n",
       "      <td>12/06/2020</td>\n",
       "      <td>97</td>\n",
       "      <td>2</td>\n",
       "      <td>53</td>\n",
       "      <td>2</td>\n",
       "      <td>2</td>\n",
       "      <td>...</td>\n",
       "      <td>2</td>\n",
       "      <td>2</td>\n",
       "      <td>2</td>\n",
       "      <td>2</td>\n",
       "      <td>2</td>\n",
       "      <td>2</td>\n",
       "      <td>2</td>\n",
       "      <td>2</td>\n",
       "      <td>7</td>\n",
       "      <td>97</td>\n",
       "    </tr>\n",
       "    <tr>\n",
       "      <th>4</th>\n",
       "      <td>2</td>\n",
       "      <td>1</td>\n",
       "      <td>2</td>\n",
       "      <td>1</td>\n",
       "      <td>21/06/2020</td>\n",
       "      <td>97</td>\n",
       "      <td>2</td>\n",
       "      <td>68</td>\n",
       "      <td>97</td>\n",
       "      <td>1</td>\n",
       "      <td>...</td>\n",
       "      <td>2</td>\n",
       "      <td>2</td>\n",
       "      <td>1</td>\n",
       "      <td>2</td>\n",
       "      <td>2</td>\n",
       "      <td>2</td>\n",
       "      <td>2</td>\n",
       "      <td>2</td>\n",
       "      <td>3</td>\n",
       "      <td>97</td>\n",
       "    </tr>\n",
       "  </tbody>\n",
       "</table>\n",
       "<p>5 rows × 21 columns</p>\n",
       "</div>\n",
       "      <button class=\"colab-df-convert\" onclick=\"convertToInteractive('df-0edafb1b-ff29-4b5b-b7ad-5acfe838f05f')\"\n",
       "              title=\"Convert this dataframe to an interactive table.\"\n",
       "              style=\"display:none;\">\n",
       "        \n",
       "  <svg xmlns=\"http://www.w3.org/2000/svg\" height=\"24px\"viewBox=\"0 0 24 24\"\n",
       "       width=\"24px\">\n",
       "    <path d=\"M0 0h24v24H0V0z\" fill=\"none\"/>\n",
       "    <path d=\"M18.56 5.44l.94 2.06.94-2.06 2.06-.94-2.06-.94-.94-2.06-.94 2.06-2.06.94zm-11 1L8.5 8.5l.94-2.06 2.06-.94-2.06-.94L8.5 2.5l-.94 2.06-2.06.94zm10 10l.94 2.06.94-2.06 2.06-.94-2.06-.94-.94-2.06-.94 2.06-2.06.94z\"/><path d=\"M17.41 7.96l-1.37-1.37c-.4-.4-.92-.59-1.43-.59-.52 0-1.04.2-1.43.59L10.3 9.45l-7.72 7.72c-.78.78-.78 2.05 0 2.83L4 21.41c.39.39.9.59 1.41.59.51 0 1.02-.2 1.41-.59l7.78-7.78 2.81-2.81c.8-.78.8-2.07 0-2.86zM5.41 20L4 18.59l7.72-7.72 1.47 1.35L5.41 20z\"/>\n",
       "  </svg>\n",
       "      </button>\n",
       "      \n",
       "  <style>\n",
       "    .colab-df-container {\n",
       "      display:flex;\n",
       "      flex-wrap:wrap;\n",
       "      gap: 12px;\n",
       "    }\n",
       "\n",
       "    .colab-df-convert {\n",
       "      background-color: #E8F0FE;\n",
       "      border: none;\n",
       "      border-radius: 50%;\n",
       "      cursor: pointer;\n",
       "      display: none;\n",
       "      fill: #1967D2;\n",
       "      height: 32px;\n",
       "      padding: 0 0 0 0;\n",
       "      width: 32px;\n",
       "    }\n",
       "\n",
       "    .colab-df-convert:hover {\n",
       "      background-color: #E2EBFA;\n",
       "      box-shadow: 0px 1px 2px rgba(60, 64, 67, 0.3), 0px 1px 3px 1px rgba(60, 64, 67, 0.15);\n",
       "      fill: #174EA6;\n",
       "    }\n",
       "\n",
       "    [theme=dark] .colab-df-convert {\n",
       "      background-color: #3B4455;\n",
       "      fill: #D2E3FC;\n",
       "    }\n",
       "\n",
       "    [theme=dark] .colab-df-convert:hover {\n",
       "      background-color: #434B5C;\n",
       "      box-shadow: 0px 1px 3px 1px rgba(0, 0, 0, 0.15);\n",
       "      filter: drop-shadow(0px 1px 2px rgba(0, 0, 0, 0.3));\n",
       "      fill: #FFFFFF;\n",
       "    }\n",
       "  </style>\n",
       "\n",
       "      <script>\n",
       "        const buttonEl =\n",
       "          document.querySelector('#df-0edafb1b-ff29-4b5b-b7ad-5acfe838f05f button.colab-df-convert');\n",
       "        buttonEl.style.display =\n",
       "          google.colab.kernel.accessAllowed ? 'block' : 'none';\n",
       "\n",
       "        async function convertToInteractive(key) {\n",
       "          const element = document.querySelector('#df-0edafb1b-ff29-4b5b-b7ad-5acfe838f05f');\n",
       "          const dataTable =\n",
       "            await google.colab.kernel.invokeFunction('convertToInteractive',\n",
       "                                                     [key], {});\n",
       "          if (!dataTable) return;\n",
       "\n",
       "          const docLinkHtml = 'Like what you see? Visit the ' +\n",
       "            '<a target=\"_blank\" href=https://colab.research.google.com/notebooks/data_table.ipynb>data table notebook</a>'\n",
       "            + ' to learn more about interactive tables.';\n",
       "          element.innerHTML = '';\n",
       "          dataTable['output_type'] = 'display_data';\n",
       "          await google.colab.output.renderOutput(dataTable, element);\n",
       "          const docLink = document.createElement('div');\n",
       "          docLink.innerHTML = docLinkHtml;\n",
       "          element.appendChild(docLink);\n",
       "        }\n",
       "      </script>\n",
       "    </div>\n",
       "  </div>\n",
       "  "
      ],
      "text/plain": [
       "   USMER  MEDICAL_UNIT  SEX  PATIENT_TYPE   DATE_DIED  INTUBED  PNEUMONIA  \\\n",
       "0      2             1    1             1  03/05/2020       97          1   \n",
       "1      2             1    2             1  03/06/2020       97          1   \n",
       "2      2             1    2             2  09/06/2020        1          2   \n",
       "3      2             1    1             1  12/06/2020       97          2   \n",
       "4      2             1    2             1  21/06/2020       97          2   \n",
       "\n",
       "   AGE  PREGNANT  DIABETES  ...  ASTHMA  INMSUPR  HIPERTENSION  OTHER_DISEASE  \\\n",
       "0   65         2         2  ...       2        2             1              2   \n",
       "1   72        97         2  ...       2        2             1              2   \n",
       "2   55        97         1  ...       2        2             2              2   \n",
       "3   53         2         2  ...       2        2             2              2   \n",
       "4   68        97         1  ...       2        2             1              2   \n",
       "\n",
       "   CARDIOVASCULAR  OBESITY  RENAL_CHRONIC  TOBACCO  CLASIFFICATION_FINAL  ICU  \n",
       "0               2        2              2        2                     3   97  \n",
       "1               2        1              1        2                     5   97  \n",
       "2               2        2              2        2                     3    2  \n",
       "3               2        2              2        2                     7   97  \n",
       "4               2        2              2        2                     3   97  \n",
       "\n",
       "[5 rows x 21 columns]"
      ]
     },
     "execution_count": 4,
     "metadata": {},
     "output_type": "execute_result"
    }
   ],
   "source": [
    "data = pd.read_csv(\"sample_data/Covid Data.csv\")\n",
    "data.head()"
   ]
  },
  {
   "cell_type": "code",
   "execution_count": 5,
   "metadata": {
    "colab": {
     "base_uri": "https://localhost:8080/"
    },
    "executionInfo": {
     "elapsed": 6,
     "status": "ok",
     "timestamp": 1672575629114,
     "user": {
      "displayName": "Komal Rethi",
      "userId": "17481055191155146212"
     },
     "user_tz": -330
    },
    "id": "_mgC_-Q6yTQu",
    "outputId": "7d58e6cb-f53f-4f68-c258-832ba578a881"
   },
   "outputs": [
    {
     "data": {
      "text/plain": [
       "(1048575, 21)"
      ]
     },
     "execution_count": 5,
     "metadata": {},
     "output_type": "execute_result"
    }
   ],
   "source": [
    "data.shape"
   ]
  },
  {
   "cell_type": "code",
   "execution_count": 6,
   "metadata": {
    "colab": {
     "base_uri": "https://localhost:8080/"
    },
    "executionInfo": {
     "elapsed": 5,
     "status": "ok",
     "timestamp": 1672575629115,
     "user": {
      "displayName": "Komal Rethi",
      "userId": "17481055191155146212"
     },
     "user_tz": -330
    },
    "id": "4U5hok6dyO61",
    "outputId": "71231a3e-fc52-4e7e-f036-164ccfde124c"
   },
   "outputs": [
    {
     "data": {
      "text/plain": [
       "USMER                   0\n",
       "MEDICAL_UNIT            0\n",
       "SEX                     0\n",
       "PATIENT_TYPE            0\n",
       "DATE_DIED               0\n",
       "INTUBED                 0\n",
       "PNEUMONIA               0\n",
       "AGE                     0\n",
       "PREGNANT                0\n",
       "DIABETES                0\n",
       "COPD                    0\n",
       "ASTHMA                  0\n",
       "INMSUPR                 0\n",
       "HIPERTENSION            0\n",
       "OTHER_DISEASE           0\n",
       "CARDIOVASCULAR          0\n",
       "OBESITY                 0\n",
       "RENAL_CHRONIC           0\n",
       "TOBACCO                 0\n",
       "CLASIFFICATION_FINAL    0\n",
       "ICU                     0\n",
       "dtype: int64"
      ]
     },
     "execution_count": 6,
     "metadata": {},
     "output_type": "execute_result"
    }
   ],
   "source": [
    "data.isnull().sum()"
   ]
  },
  {
   "cell_type": "code",
   "execution_count": 7,
   "metadata": {
    "colab": {
     "base_uri": "https://localhost:8080/"
    },
    "executionInfo": {
     "elapsed": 3,
     "status": "ok",
     "timestamp": 1672575629877,
     "user": {
      "displayName": "Komal Rethi",
      "userId": "17481055191155146212"
     },
     "user_tz": -330
    },
    "id": "PRJUDock2LdH",
    "outputId": "92f3cad0-c278-45db-818f-3b7d9d7f8130"
   },
   "outputs": [
    {
     "data": {
      "text/plain": [
       "{'01/01/2021',\n",
       " '01/02/2020',\n",
       " '01/02/2021',\n",
       " '01/03/2020',\n",
       " '01/04/2020',\n",
       " '01/04/2021',\n",
       " '01/05/2020',\n",
       " '01/05/2021',\n",
       " '01/06/2020',\n",
       " '01/07/2020',\n",
       " '01/08/2020',\n",
       " '01/09/2020',\n",
       " '02/01/2020',\n",
       " '02/01/2021',\n",
       " '02/02/2020',\n",
       " '02/03/2020',\n",
       " '02/04/2020',\n",
       " '02/04/2021',\n",
       " '02/05/2020',\n",
       " '02/05/2021',\n",
       " '02/06/2020',\n",
       " '02/07/2020',\n",
       " '02/08/2020',\n",
       " '02/09/2020',\n",
       " '03/01/2020',\n",
       " '03/02/2020',\n",
       " '03/02/2021',\n",
       " '03/03/2020',\n",
       " '03/04/2020',\n",
       " '03/04/2021',\n",
       " '03/05/2020',\n",
       " '03/06/2020',\n",
       " '03/07/2020',\n",
       " '03/08/2020',\n",
       " '03/09/2020',\n",
       " '03/12/2020',\n",
       " '04/01/2020',\n",
       " '04/02/2020',\n",
       " '04/02/2021',\n",
       " '04/03/2020',\n",
       " '04/04/2020',\n",
       " '04/05/2020',\n",
       " '04/06/2020',\n",
       " '04/07/2020',\n",
       " '04/08/2020',\n",
       " '04/09/2020',\n",
       " '04/10/2020',\n",
       " '04/11/2020',\n",
       " '05/01/2020',\n",
       " '05/02/2020',\n",
       " '05/02/2021',\n",
       " '05/03/2020',\n",
       " '05/04/2020',\n",
       " '05/05/2020',\n",
       " '05/06/2020',\n",
       " '05/07/2020',\n",
       " '05/08/2020',\n",
       " '05/09/2020',\n",
       " '05/10/2020',\n",
       " '05/12/2020',\n",
       " '06/01/2020',\n",
       " '06/01/2021',\n",
       " '06/02/2020',\n",
       " '06/02/2021',\n",
       " '06/03/2020',\n",
       " '06/04/2020',\n",
       " '06/04/2021',\n",
       " '06/05/2020',\n",
       " '06/06/2020',\n",
       " '06/07/2020',\n",
       " '06/08/2020',\n",
       " '06/09/2020',\n",
       " '06/10/2020',\n",
       " '06/11/2020',\n",
       " '07/01/2020',\n",
       " '07/01/2021',\n",
       " '07/02/2020',\n",
       " '07/02/2021',\n",
       " '07/03/2020',\n",
       " '07/03/2021',\n",
       " '07/04/2020',\n",
       " '07/05/2020',\n",
       " '07/06/2020',\n",
       " '07/07/2020',\n",
       " '07/08/2020',\n",
       " '07/09/2020',\n",
       " '07/10/2020',\n",
       " '07/12/2020',\n",
       " '08/01/2020',\n",
       " '08/02/2020',\n",
       " '08/02/2021',\n",
       " '08/03/2020',\n",
       " '08/03/2021',\n",
       " '08/04/2020',\n",
       " '08/05/2020',\n",
       " '08/06/2020',\n",
       " '08/07/2020',\n",
       " '08/08/2020',\n",
       " '08/09/2020',\n",
       " '08/11/2020',\n",
       " '08/12/2020',\n",
       " '09/01/2020',\n",
       " '09/02/2020',\n",
       " '09/03/2020',\n",
       " '09/04/2020',\n",
       " '09/04/2021',\n",
       " '09/05/2020',\n",
       " '09/06/2020',\n",
       " '09/07/2020',\n",
       " '09/08/2020',\n",
       " '09/09/2020',\n",
       " '10/01/2020',\n",
       " '10/01/2021',\n",
       " '10/02/2020',\n",
       " '10/02/2021',\n",
       " '10/03/2020',\n",
       " '10/03/2021',\n",
       " '10/04/2020',\n",
       " '10/04/2021',\n",
       " '10/05/2020',\n",
       " '10/06/2020',\n",
       " '10/07/2020',\n",
       " '10/08/2020',\n",
       " '10/09/2020',\n",
       " '10/10/2020',\n",
       " '11/01/2020',\n",
       " '11/01/2021',\n",
       " '11/02/2020',\n",
       " '11/02/2021',\n",
       " '11/03/2020',\n",
       " '11/03/2021',\n",
       " '11/04/2020',\n",
       " '11/05/2020',\n",
       " '11/06/2020',\n",
       " '11/07/2020',\n",
       " '11/08/2020',\n",
       " '11/09/2020',\n",
       " '12/01/2020',\n",
       " '12/02/2020',\n",
       " '12/02/2021',\n",
       " '12/03/2020',\n",
       " '12/04/2020',\n",
       " '12/04/2021',\n",
       " '12/05/2020',\n",
       " '12/06/2020',\n",
       " '12/07/2020',\n",
       " '12/08/2020',\n",
       " '12/09/2020',\n",
       " '12/10/2020',\n",
       " '12/11/2020',\n",
       " '13/01/2020',\n",
       " '13/02/2020',\n",
       " '13/03/2020',\n",
       " '13/04/2020',\n",
       " '13/04/2021',\n",
       " '13/05/2020',\n",
       " '13/06/2020',\n",
       " '13/07/2020',\n",
       " '13/08/2020',\n",
       " '13/09/2020',\n",
       " '13/10/2020',\n",
       " '14/01/2020',\n",
       " '14/01/2021',\n",
       " '14/02/2020',\n",
       " '14/02/2021',\n",
       " '14/03/2020',\n",
       " '14/03/2021',\n",
       " '14/04/2020',\n",
       " '14/04/2021',\n",
       " '14/05/2020',\n",
       " '14/06/2020',\n",
       " '14/07/2020',\n",
       " '14/08/2020',\n",
       " '14/09/2020',\n",
       " '14/10/2020',\n",
       " '14/11/2020',\n",
       " '15/01/2020',\n",
       " '15/01/2021',\n",
       " '15/02/2020',\n",
       " '15/03/2020',\n",
       " '15/04/2020',\n",
       " '15/04/2021',\n",
       " '15/05/2020',\n",
       " '15/06/2020',\n",
       " '15/07/2020',\n",
       " '15/08/2020',\n",
       " '15/09/2020',\n",
       " '15/11/2020',\n",
       " '15/12/2020',\n",
       " '16/01/2020',\n",
       " '16/02/2020',\n",
       " '16/03/2020',\n",
       " '16/03/2021',\n",
       " '16/04/2020',\n",
       " '16/04/2021',\n",
       " '16/05/2020',\n",
       " '16/06/2020',\n",
       " '16/07/2020',\n",
       " '16/08/2020',\n",
       " '16/09/2020',\n",
       " '16/10/2020',\n",
       " '16/12/2020',\n",
       " '17/01/2020',\n",
       " '17/02/2020',\n",
       " '17/02/2021',\n",
       " '17/03/2020',\n",
       " '17/03/2021',\n",
       " '17/04/2020',\n",
       " '17/04/2021',\n",
       " '17/05/2020',\n",
       " '17/06/2020',\n",
       " '17/07/2020',\n",
       " '17/08/2020',\n",
       " '17/09/2020',\n",
       " '17/10/2020',\n",
       " '17/12/2020',\n",
       " '18/01/2020',\n",
       " '18/02/2020',\n",
       " '18/02/2021',\n",
       " '18/03/2020',\n",
       " '18/03/2021',\n",
       " '18/04/2020',\n",
       " '18/04/2021',\n",
       " '18/05/2020',\n",
       " '18/06/2020',\n",
       " '18/07/2020',\n",
       " '18/08/2020',\n",
       " '18/09/2020',\n",
       " '18/10/2020',\n",
       " '18/12/2020',\n",
       " '19/01/2020',\n",
       " '19/01/2021',\n",
       " '19/02/2020',\n",
       " '19/02/2021',\n",
       " '19/03/2020',\n",
       " '19/03/2021',\n",
       " '19/04/2020',\n",
       " '19/04/2021',\n",
       " '19/05/2020',\n",
       " '19/06/2020',\n",
       " '19/07/2020',\n",
       " '19/08/2020',\n",
       " '19/09/2020',\n",
       " '19/12/2020',\n",
       " '20/01/2020',\n",
       " '20/01/2021',\n",
       " '20/02/2020',\n",
       " '20/02/2021',\n",
       " '20/03/2020',\n",
       " '20/03/2021',\n",
       " '20/04/2020',\n",
       " '20/04/2021',\n",
       " '20/05/2020',\n",
       " '20/06/2020',\n",
       " '20/07/2020',\n",
       " '20/08/2020',\n",
       " '20/09/2020',\n",
       " '20/10/2020',\n",
       " '20/12/2020',\n",
       " '21/01/2020',\n",
       " '21/01/2021',\n",
       " '21/02/2020',\n",
       " '21/03/2020',\n",
       " '21/04/2020',\n",
       " '21/05/2020',\n",
       " '21/06/2020',\n",
       " '21/07/2020',\n",
       " '21/08/2020',\n",
       " '21/09/2020',\n",
       " '22/01/2020',\n",
       " '22/01/2021',\n",
       " '22/02/2020',\n",
       " '22/02/2021',\n",
       " '22/03/2020',\n",
       " '22/03/2021',\n",
       " '22/04/2020',\n",
       " '22/04/2021',\n",
       " '22/05/2020',\n",
       " '22/06/2020',\n",
       " '22/07/2020',\n",
       " '22/08/2020',\n",
       " '22/09/2020',\n",
       " '22/10/2020',\n",
       " '22/11/2020',\n",
       " '22/12/2020',\n",
       " '23/01/2020',\n",
       " '23/02/2020',\n",
       " '23/02/2021',\n",
       " '23/03/2020',\n",
       " '23/03/2021',\n",
       " '23/04/2020',\n",
       " '23/05/2020',\n",
       " '23/06/2020',\n",
       " '23/07/2020',\n",
       " '23/08/2020',\n",
       " '23/09/2020',\n",
       " '23/10/2020',\n",
       " '23/11/2020',\n",
       " '24/01/2020',\n",
       " '24/01/2021',\n",
       " '24/02/2020',\n",
       " '24/02/2021',\n",
       " '24/03/2020',\n",
       " '24/03/2021',\n",
       " '24/04/2020',\n",
       " '24/04/2021',\n",
       " '24/05/2020',\n",
       " '24/06/2020',\n",
       " '24/07/2020',\n",
       " '24/08/2020',\n",
       " '24/09/2020',\n",
       " '24/11/2020',\n",
       " '24/12/2020',\n",
       " '25/01/2020',\n",
       " '25/01/2021',\n",
       " '25/02/2020',\n",
       " '25/02/2021',\n",
       " '25/03/2020',\n",
       " '25/04/2020',\n",
       " '25/04/2021',\n",
       " '25/05/2020',\n",
       " '25/06/2020',\n",
       " '25/07/2020',\n",
       " '25/08/2020',\n",
       " '25/09/2020',\n",
       " '25/10/2020',\n",
       " '25/11/2020',\n",
       " '25/12/2020',\n",
       " '26/01/2020',\n",
       " '26/01/2021',\n",
       " '26/02/2020',\n",
       " '26/02/2021',\n",
       " '26/03/2020',\n",
       " '26/03/2021',\n",
       " '26/04/2020',\n",
       " '26/04/2021',\n",
       " '26/05/2020',\n",
       " '26/06/2020',\n",
       " '26/07/2020',\n",
       " '26/08/2020',\n",
       " '26/10/2020',\n",
       " '26/12/2020',\n",
       " '27/01/2020',\n",
       " '27/01/2021',\n",
       " '27/02/2020',\n",
       " '27/02/2021',\n",
       " '27/03/2020',\n",
       " '27/03/2021',\n",
       " '27/04/2020',\n",
       " '27/04/2021',\n",
       " '27/05/2020',\n",
       " '27/06/2020',\n",
       " '27/07/2020',\n",
       " '27/08/2020',\n",
       " '27/09/2020',\n",
       " '27/10/2020',\n",
       " '27/11/2020',\n",
       " '28/01/2020',\n",
       " '28/01/2021',\n",
       " '28/02/2020',\n",
       " '28/03/2020',\n",
       " '28/03/2021',\n",
       " '28/04/2020',\n",
       " '28/04/2021',\n",
       " '28/05/2020',\n",
       " '28/06/2020',\n",
       " '28/07/2020',\n",
       " '28/08/2020',\n",
       " '28/09/2020',\n",
       " '28/12/2020',\n",
       " '29/01/2020',\n",
       " '29/02/2020',\n",
       " '29/03/2020',\n",
       " '29/03/2021',\n",
       " '29/04/2020',\n",
       " '29/04/2021',\n",
       " '29/05/2020',\n",
       " '29/06/2020',\n",
       " '29/07/2020',\n",
       " '29/08/2020',\n",
       " '29/09/2020',\n",
       " '30/01/2020',\n",
       " '30/03/2020',\n",
       " '30/03/2021',\n",
       " '30/04/2020',\n",
       " '30/04/2021',\n",
       " '30/05/2020',\n",
       " '30/06/2020',\n",
       " '30/07/2020',\n",
       " '30/08/2020',\n",
       " '30/10/2020',\n",
       " '30/12/2020',\n",
       " '31/01/2020',\n",
       " '31/01/2021',\n",
       " '31/03/2020',\n",
       " '31/03/2021',\n",
       " '31/05/2020',\n",
       " '31/07/2020',\n",
       " '31/08/2020',\n",
       " '31/10/2020',\n",
       " '9999-99-99'}"
      ]
     },
     "execution_count": 7,
     "metadata": {},
     "output_type": "execute_result"
    }
   ],
   "source": [
    "set(data[\"DATE_DIED\"])"
   ]
  },
  {
   "cell_type": "code",
   "execution_count": 8,
   "metadata": {
    "executionInfo": {
     "elapsed": 690,
     "status": "ok",
     "timestamp": 1672575631357,
     "user": {
      "displayName": "Komal Rethi",
      "userId": "17481055191155146212"
     },
     "user_tz": -330
    },
    "id": "oZtWl9Of2V8b"
   },
   "outputs": [],
   "source": [
    "data['DIED']=[1 if row=='9999-99-99' else 0 for row in data['DATE_DIED']]"
   ]
  },
  {
   "cell_type": "code",
   "execution_count": 9,
   "metadata": {
    "colab": {
     "base_uri": "https://localhost:8080/",
     "height": 299
    },
    "executionInfo": {
     "elapsed": 11,
     "status": "ok",
     "timestamp": 1672575632367,
     "user": {
      "displayName": "Komal Rethi",
      "userId": "17481055191155146212"
     },
     "user_tz": -330
    },
    "id": "pUZ4GZzs2_Vy",
    "outputId": "cdec6d93-9e49-4915-fed9-bfe83313144d"
   },
   "outputs": [
    {
     "data": {
      "text/html": [
       "\n",
       "  <div id=\"df-7f1f7872-2b91-4b49-8c98-0d84f14dcf6c\">\n",
       "    <div class=\"colab-df-container\">\n",
       "      <div>\n",
       "<style scoped>\n",
       "    .dataframe tbody tr th:only-of-type {\n",
       "        vertical-align: middle;\n",
       "    }\n",
       "\n",
       "    .dataframe tbody tr th {\n",
       "        vertical-align: top;\n",
       "    }\n",
       "\n",
       "    .dataframe thead th {\n",
       "        text-align: right;\n",
       "    }\n",
       "</style>\n",
       "<table border=\"1\" class=\"dataframe\">\n",
       "  <thead>\n",
       "    <tr style=\"text-align: right;\">\n",
       "      <th></th>\n",
       "      <th>USMER</th>\n",
       "      <th>MEDICAL_UNIT</th>\n",
       "      <th>SEX</th>\n",
       "      <th>PATIENT_TYPE</th>\n",
       "      <th>DATE_DIED</th>\n",
       "      <th>INTUBED</th>\n",
       "      <th>PNEUMONIA</th>\n",
       "      <th>AGE</th>\n",
       "      <th>PREGNANT</th>\n",
       "      <th>DIABETES</th>\n",
       "      <th>...</th>\n",
       "      <th>INMSUPR</th>\n",
       "      <th>HIPERTENSION</th>\n",
       "      <th>OTHER_DISEASE</th>\n",
       "      <th>CARDIOVASCULAR</th>\n",
       "      <th>OBESITY</th>\n",
       "      <th>RENAL_CHRONIC</th>\n",
       "      <th>TOBACCO</th>\n",
       "      <th>CLASIFFICATION_FINAL</th>\n",
       "      <th>ICU</th>\n",
       "      <th>DIED</th>\n",
       "    </tr>\n",
       "  </thead>\n",
       "  <tbody>\n",
       "    <tr>\n",
       "      <th>0</th>\n",
       "      <td>2</td>\n",
       "      <td>1</td>\n",
       "      <td>1</td>\n",
       "      <td>1</td>\n",
       "      <td>03/05/2020</td>\n",
       "      <td>97</td>\n",
       "      <td>1</td>\n",
       "      <td>65</td>\n",
       "      <td>2</td>\n",
       "      <td>2</td>\n",
       "      <td>...</td>\n",
       "      <td>2</td>\n",
       "      <td>1</td>\n",
       "      <td>2</td>\n",
       "      <td>2</td>\n",
       "      <td>2</td>\n",
       "      <td>2</td>\n",
       "      <td>2</td>\n",
       "      <td>3</td>\n",
       "      <td>97</td>\n",
       "      <td>0</td>\n",
       "    </tr>\n",
       "    <tr>\n",
       "      <th>1</th>\n",
       "      <td>2</td>\n",
       "      <td>1</td>\n",
       "      <td>2</td>\n",
       "      <td>1</td>\n",
       "      <td>03/06/2020</td>\n",
       "      <td>97</td>\n",
       "      <td>1</td>\n",
       "      <td>72</td>\n",
       "      <td>97</td>\n",
       "      <td>2</td>\n",
       "      <td>...</td>\n",
       "      <td>2</td>\n",
       "      <td>1</td>\n",
       "      <td>2</td>\n",
       "      <td>2</td>\n",
       "      <td>1</td>\n",
       "      <td>1</td>\n",
       "      <td>2</td>\n",
       "      <td>5</td>\n",
       "      <td>97</td>\n",
       "      <td>0</td>\n",
       "    </tr>\n",
       "    <tr>\n",
       "      <th>2</th>\n",
       "      <td>2</td>\n",
       "      <td>1</td>\n",
       "      <td>2</td>\n",
       "      <td>2</td>\n",
       "      <td>09/06/2020</td>\n",
       "      <td>1</td>\n",
       "      <td>2</td>\n",
       "      <td>55</td>\n",
       "      <td>97</td>\n",
       "      <td>1</td>\n",
       "      <td>...</td>\n",
       "      <td>2</td>\n",
       "      <td>2</td>\n",
       "      <td>2</td>\n",
       "      <td>2</td>\n",
       "      <td>2</td>\n",
       "      <td>2</td>\n",
       "      <td>2</td>\n",
       "      <td>3</td>\n",
       "      <td>2</td>\n",
       "      <td>0</td>\n",
       "    </tr>\n",
       "    <tr>\n",
       "      <th>3</th>\n",
       "      <td>2</td>\n",
       "      <td>1</td>\n",
       "      <td>1</td>\n",
       "      <td>1</td>\n",
       "      <td>12/06/2020</td>\n",
       "      <td>97</td>\n",
       "      <td>2</td>\n",
       "      <td>53</td>\n",
       "      <td>2</td>\n",
       "      <td>2</td>\n",
       "      <td>...</td>\n",
       "      <td>2</td>\n",
       "      <td>2</td>\n",
       "      <td>2</td>\n",
       "      <td>2</td>\n",
       "      <td>2</td>\n",
       "      <td>2</td>\n",
       "      <td>2</td>\n",
       "      <td>7</td>\n",
       "      <td>97</td>\n",
       "      <td>0</td>\n",
       "    </tr>\n",
       "    <tr>\n",
       "      <th>4</th>\n",
       "      <td>2</td>\n",
       "      <td>1</td>\n",
       "      <td>2</td>\n",
       "      <td>1</td>\n",
       "      <td>21/06/2020</td>\n",
       "      <td>97</td>\n",
       "      <td>2</td>\n",
       "      <td>68</td>\n",
       "      <td>97</td>\n",
       "      <td>1</td>\n",
       "      <td>...</td>\n",
       "      <td>2</td>\n",
       "      <td>1</td>\n",
       "      <td>2</td>\n",
       "      <td>2</td>\n",
       "      <td>2</td>\n",
       "      <td>2</td>\n",
       "      <td>2</td>\n",
       "      <td>3</td>\n",
       "      <td>97</td>\n",
       "      <td>0</td>\n",
       "    </tr>\n",
       "  </tbody>\n",
       "</table>\n",
       "<p>5 rows × 22 columns</p>\n",
       "</div>\n",
       "      <button class=\"colab-df-convert\" onclick=\"convertToInteractive('df-7f1f7872-2b91-4b49-8c98-0d84f14dcf6c')\"\n",
       "              title=\"Convert this dataframe to an interactive table.\"\n",
       "              style=\"display:none;\">\n",
       "        \n",
       "  <svg xmlns=\"http://www.w3.org/2000/svg\" height=\"24px\"viewBox=\"0 0 24 24\"\n",
       "       width=\"24px\">\n",
       "    <path d=\"M0 0h24v24H0V0z\" fill=\"none\"/>\n",
       "    <path d=\"M18.56 5.44l.94 2.06.94-2.06 2.06-.94-2.06-.94-.94-2.06-.94 2.06-2.06.94zm-11 1L8.5 8.5l.94-2.06 2.06-.94-2.06-.94L8.5 2.5l-.94 2.06-2.06.94zm10 10l.94 2.06.94-2.06 2.06-.94-2.06-.94-.94-2.06-.94 2.06-2.06.94z\"/><path d=\"M17.41 7.96l-1.37-1.37c-.4-.4-.92-.59-1.43-.59-.52 0-1.04.2-1.43.59L10.3 9.45l-7.72 7.72c-.78.78-.78 2.05 0 2.83L4 21.41c.39.39.9.59 1.41.59.51 0 1.02-.2 1.41-.59l7.78-7.78 2.81-2.81c.8-.78.8-2.07 0-2.86zM5.41 20L4 18.59l7.72-7.72 1.47 1.35L5.41 20z\"/>\n",
       "  </svg>\n",
       "      </button>\n",
       "      \n",
       "  <style>\n",
       "    .colab-df-container {\n",
       "      display:flex;\n",
       "      flex-wrap:wrap;\n",
       "      gap: 12px;\n",
       "    }\n",
       "\n",
       "    .colab-df-convert {\n",
       "      background-color: #E8F0FE;\n",
       "      border: none;\n",
       "      border-radius: 50%;\n",
       "      cursor: pointer;\n",
       "      display: none;\n",
       "      fill: #1967D2;\n",
       "      height: 32px;\n",
       "      padding: 0 0 0 0;\n",
       "      width: 32px;\n",
       "    }\n",
       "\n",
       "    .colab-df-convert:hover {\n",
       "      background-color: #E2EBFA;\n",
       "      box-shadow: 0px 1px 2px rgba(60, 64, 67, 0.3), 0px 1px 3px 1px rgba(60, 64, 67, 0.15);\n",
       "      fill: #174EA6;\n",
       "    }\n",
       "\n",
       "    [theme=dark] .colab-df-convert {\n",
       "      background-color: #3B4455;\n",
       "      fill: #D2E3FC;\n",
       "    }\n",
       "\n",
       "    [theme=dark] .colab-df-convert:hover {\n",
       "      background-color: #434B5C;\n",
       "      box-shadow: 0px 1px 3px 1px rgba(0, 0, 0, 0.15);\n",
       "      filter: drop-shadow(0px 1px 2px rgba(0, 0, 0, 0.3));\n",
       "      fill: #FFFFFF;\n",
       "    }\n",
       "  </style>\n",
       "\n",
       "      <script>\n",
       "        const buttonEl =\n",
       "          document.querySelector('#df-7f1f7872-2b91-4b49-8c98-0d84f14dcf6c button.colab-df-convert');\n",
       "        buttonEl.style.display =\n",
       "          google.colab.kernel.accessAllowed ? 'block' : 'none';\n",
       "\n",
       "        async function convertToInteractive(key) {\n",
       "          const element = document.querySelector('#df-7f1f7872-2b91-4b49-8c98-0d84f14dcf6c');\n",
       "          const dataTable =\n",
       "            await google.colab.kernel.invokeFunction('convertToInteractive',\n",
       "                                                     [key], {});\n",
       "          if (!dataTable) return;\n",
       "\n",
       "          const docLinkHtml = 'Like what you see? Visit the ' +\n",
       "            '<a target=\"_blank\" href=https://colab.research.google.com/notebooks/data_table.ipynb>data table notebook</a>'\n",
       "            + ' to learn more about interactive tables.';\n",
       "          element.innerHTML = '';\n",
       "          dataTable['output_type'] = 'display_data';\n",
       "          await google.colab.output.renderOutput(dataTable, element);\n",
       "          const docLink = document.createElement('div');\n",
       "          docLink.innerHTML = docLinkHtml;\n",
       "          element.appendChild(docLink);\n",
       "        }\n",
       "      </script>\n",
       "    </div>\n",
       "  </div>\n",
       "  "
      ],
      "text/plain": [
       "   USMER  MEDICAL_UNIT  SEX  PATIENT_TYPE   DATE_DIED  INTUBED  PNEUMONIA  \\\n",
       "0      2             1    1             1  03/05/2020       97          1   \n",
       "1      2             1    2             1  03/06/2020       97          1   \n",
       "2      2             1    2             2  09/06/2020        1          2   \n",
       "3      2             1    1             1  12/06/2020       97          2   \n",
       "4      2             1    2             1  21/06/2020       97          2   \n",
       "\n",
       "   AGE  PREGNANT  DIABETES  ...  INMSUPR  HIPERTENSION  OTHER_DISEASE  \\\n",
       "0   65         2         2  ...        2             1              2   \n",
       "1   72        97         2  ...        2             1              2   \n",
       "2   55        97         1  ...        2             2              2   \n",
       "3   53         2         2  ...        2             2              2   \n",
       "4   68        97         1  ...        2             1              2   \n",
       "\n",
       "   CARDIOVASCULAR  OBESITY  RENAL_CHRONIC  TOBACCO  CLASIFFICATION_FINAL  ICU  \\\n",
       "0               2        2              2        2                     3   97   \n",
       "1               2        1              1        2                     5   97   \n",
       "2               2        2              2        2                     3    2   \n",
       "3               2        2              2        2                     7   97   \n",
       "4               2        2              2        2                     3   97   \n",
       "\n",
       "   DIED  \n",
       "0     0  \n",
       "1     0  \n",
       "2     0  \n",
       "3     0  \n",
       "4     0  \n",
       "\n",
       "[5 rows x 22 columns]"
      ]
     },
     "execution_count": 9,
     "metadata": {},
     "output_type": "execute_result"
    }
   ],
   "source": [
    "data.head()"
   ]
  },
  {
   "cell_type": "code",
   "execution_count": 10,
   "metadata": {
    "colab": {
     "base_uri": "https://localhost:8080/",
     "height": 299
    },
    "executionInfo": {
     "elapsed": 9,
     "status": "ok",
     "timestamp": 1672575632367,
     "user": {
      "displayName": "Komal Rethi",
      "userId": "17481055191155146212"
     },
     "user_tz": -330
    },
    "id": "sXy_esf_4iRR",
    "outputId": "6d984646-c647-482d-d561-c982b1d3eb26"
   },
   "outputs": [
    {
     "data": {
      "text/html": [
       "\n",
       "  <div id=\"df-d7fd8925-6754-43f5-a991-d72750abc999\">\n",
       "    <div class=\"colab-df-container\">\n",
       "      <div>\n",
       "<style scoped>\n",
       "    .dataframe tbody tr th:only-of-type {\n",
       "        vertical-align: middle;\n",
       "    }\n",
       "\n",
       "    .dataframe tbody tr th {\n",
       "        vertical-align: top;\n",
       "    }\n",
       "\n",
       "    .dataframe thead th {\n",
       "        text-align: right;\n",
       "    }\n",
       "</style>\n",
       "<table border=\"1\" class=\"dataframe\">\n",
       "  <thead>\n",
       "    <tr style=\"text-align: right;\">\n",
       "      <th></th>\n",
       "      <th>USMER</th>\n",
       "      <th>MEDICAL_UNIT</th>\n",
       "      <th>SEX</th>\n",
       "      <th>PATIENT_TYPE</th>\n",
       "      <th>INTUBED</th>\n",
       "      <th>PNEUMONIA</th>\n",
       "      <th>AGE</th>\n",
       "      <th>PREGNANT</th>\n",
       "      <th>DIABETES</th>\n",
       "      <th>COPD</th>\n",
       "      <th>...</th>\n",
       "      <th>INMSUPR</th>\n",
       "      <th>HIPERTENSION</th>\n",
       "      <th>OTHER_DISEASE</th>\n",
       "      <th>CARDIOVASCULAR</th>\n",
       "      <th>OBESITY</th>\n",
       "      <th>RENAL_CHRONIC</th>\n",
       "      <th>TOBACCO</th>\n",
       "      <th>CLASIFFICATION_FINAL</th>\n",
       "      <th>ICU</th>\n",
       "      <th>DIED</th>\n",
       "    </tr>\n",
       "  </thead>\n",
       "  <tbody>\n",
       "    <tr>\n",
       "      <th>0</th>\n",
       "      <td>2</td>\n",
       "      <td>1</td>\n",
       "      <td>1</td>\n",
       "      <td>1</td>\n",
       "      <td>97</td>\n",
       "      <td>1</td>\n",
       "      <td>65</td>\n",
       "      <td>2</td>\n",
       "      <td>2</td>\n",
       "      <td>2</td>\n",
       "      <td>...</td>\n",
       "      <td>2</td>\n",
       "      <td>1</td>\n",
       "      <td>2</td>\n",
       "      <td>2</td>\n",
       "      <td>2</td>\n",
       "      <td>2</td>\n",
       "      <td>2</td>\n",
       "      <td>3</td>\n",
       "      <td>97</td>\n",
       "      <td>0</td>\n",
       "    </tr>\n",
       "    <tr>\n",
       "      <th>1</th>\n",
       "      <td>2</td>\n",
       "      <td>1</td>\n",
       "      <td>2</td>\n",
       "      <td>1</td>\n",
       "      <td>97</td>\n",
       "      <td>1</td>\n",
       "      <td>72</td>\n",
       "      <td>97</td>\n",
       "      <td>2</td>\n",
       "      <td>2</td>\n",
       "      <td>...</td>\n",
       "      <td>2</td>\n",
       "      <td>1</td>\n",
       "      <td>2</td>\n",
       "      <td>2</td>\n",
       "      <td>1</td>\n",
       "      <td>1</td>\n",
       "      <td>2</td>\n",
       "      <td>5</td>\n",
       "      <td>97</td>\n",
       "      <td>0</td>\n",
       "    </tr>\n",
       "    <tr>\n",
       "      <th>2</th>\n",
       "      <td>2</td>\n",
       "      <td>1</td>\n",
       "      <td>2</td>\n",
       "      <td>2</td>\n",
       "      <td>1</td>\n",
       "      <td>2</td>\n",
       "      <td>55</td>\n",
       "      <td>97</td>\n",
       "      <td>1</td>\n",
       "      <td>2</td>\n",
       "      <td>...</td>\n",
       "      <td>2</td>\n",
       "      <td>2</td>\n",
       "      <td>2</td>\n",
       "      <td>2</td>\n",
       "      <td>2</td>\n",
       "      <td>2</td>\n",
       "      <td>2</td>\n",
       "      <td>3</td>\n",
       "      <td>2</td>\n",
       "      <td>0</td>\n",
       "    </tr>\n",
       "    <tr>\n",
       "      <th>3</th>\n",
       "      <td>2</td>\n",
       "      <td>1</td>\n",
       "      <td>1</td>\n",
       "      <td>1</td>\n",
       "      <td>97</td>\n",
       "      <td>2</td>\n",
       "      <td>53</td>\n",
       "      <td>2</td>\n",
       "      <td>2</td>\n",
       "      <td>2</td>\n",
       "      <td>...</td>\n",
       "      <td>2</td>\n",
       "      <td>2</td>\n",
       "      <td>2</td>\n",
       "      <td>2</td>\n",
       "      <td>2</td>\n",
       "      <td>2</td>\n",
       "      <td>2</td>\n",
       "      <td>7</td>\n",
       "      <td>97</td>\n",
       "      <td>0</td>\n",
       "    </tr>\n",
       "    <tr>\n",
       "      <th>4</th>\n",
       "      <td>2</td>\n",
       "      <td>1</td>\n",
       "      <td>2</td>\n",
       "      <td>1</td>\n",
       "      <td>97</td>\n",
       "      <td>2</td>\n",
       "      <td>68</td>\n",
       "      <td>97</td>\n",
       "      <td>1</td>\n",
       "      <td>2</td>\n",
       "      <td>...</td>\n",
       "      <td>2</td>\n",
       "      <td>1</td>\n",
       "      <td>2</td>\n",
       "      <td>2</td>\n",
       "      <td>2</td>\n",
       "      <td>2</td>\n",
       "      <td>2</td>\n",
       "      <td>3</td>\n",
       "      <td>97</td>\n",
       "      <td>0</td>\n",
       "    </tr>\n",
       "  </tbody>\n",
       "</table>\n",
       "<p>5 rows × 21 columns</p>\n",
       "</div>\n",
       "      <button class=\"colab-df-convert\" onclick=\"convertToInteractive('df-d7fd8925-6754-43f5-a991-d72750abc999')\"\n",
       "              title=\"Convert this dataframe to an interactive table.\"\n",
       "              style=\"display:none;\">\n",
       "        \n",
       "  <svg xmlns=\"http://www.w3.org/2000/svg\" height=\"24px\"viewBox=\"0 0 24 24\"\n",
       "       width=\"24px\">\n",
       "    <path d=\"M0 0h24v24H0V0z\" fill=\"none\"/>\n",
       "    <path d=\"M18.56 5.44l.94 2.06.94-2.06 2.06-.94-2.06-.94-.94-2.06-.94 2.06-2.06.94zm-11 1L8.5 8.5l.94-2.06 2.06-.94-2.06-.94L8.5 2.5l-.94 2.06-2.06.94zm10 10l.94 2.06.94-2.06 2.06-.94-2.06-.94-.94-2.06-.94 2.06-2.06.94z\"/><path d=\"M17.41 7.96l-1.37-1.37c-.4-.4-.92-.59-1.43-.59-.52 0-1.04.2-1.43.59L10.3 9.45l-7.72 7.72c-.78.78-.78 2.05 0 2.83L4 21.41c.39.39.9.59 1.41.59.51 0 1.02-.2 1.41-.59l7.78-7.78 2.81-2.81c.8-.78.8-2.07 0-2.86zM5.41 20L4 18.59l7.72-7.72 1.47 1.35L5.41 20z\"/>\n",
       "  </svg>\n",
       "      </button>\n",
       "      \n",
       "  <style>\n",
       "    .colab-df-container {\n",
       "      display:flex;\n",
       "      flex-wrap:wrap;\n",
       "      gap: 12px;\n",
       "    }\n",
       "\n",
       "    .colab-df-convert {\n",
       "      background-color: #E8F0FE;\n",
       "      border: none;\n",
       "      border-radius: 50%;\n",
       "      cursor: pointer;\n",
       "      display: none;\n",
       "      fill: #1967D2;\n",
       "      height: 32px;\n",
       "      padding: 0 0 0 0;\n",
       "      width: 32px;\n",
       "    }\n",
       "\n",
       "    .colab-df-convert:hover {\n",
       "      background-color: #E2EBFA;\n",
       "      box-shadow: 0px 1px 2px rgba(60, 64, 67, 0.3), 0px 1px 3px 1px rgba(60, 64, 67, 0.15);\n",
       "      fill: #174EA6;\n",
       "    }\n",
       "\n",
       "    [theme=dark] .colab-df-convert {\n",
       "      background-color: #3B4455;\n",
       "      fill: #D2E3FC;\n",
       "    }\n",
       "\n",
       "    [theme=dark] .colab-df-convert:hover {\n",
       "      background-color: #434B5C;\n",
       "      box-shadow: 0px 1px 3px 1px rgba(0, 0, 0, 0.15);\n",
       "      filter: drop-shadow(0px 1px 2px rgba(0, 0, 0, 0.3));\n",
       "      fill: #FFFFFF;\n",
       "    }\n",
       "  </style>\n",
       "\n",
       "      <script>\n",
       "        const buttonEl =\n",
       "          document.querySelector('#df-d7fd8925-6754-43f5-a991-d72750abc999 button.colab-df-convert');\n",
       "        buttonEl.style.display =\n",
       "          google.colab.kernel.accessAllowed ? 'block' : 'none';\n",
       "\n",
       "        async function convertToInteractive(key) {\n",
       "          const element = document.querySelector('#df-d7fd8925-6754-43f5-a991-d72750abc999');\n",
       "          const dataTable =\n",
       "            await google.colab.kernel.invokeFunction('convertToInteractive',\n",
       "                                                     [key], {});\n",
       "          if (!dataTable) return;\n",
       "\n",
       "          const docLinkHtml = 'Like what you see? Visit the ' +\n",
       "            '<a target=\"_blank\" href=https://colab.research.google.com/notebooks/data_table.ipynb>data table notebook</a>'\n",
       "            + ' to learn more about interactive tables.';\n",
       "          element.innerHTML = '';\n",
       "          dataTable['output_type'] = 'display_data';\n",
       "          await google.colab.output.renderOutput(dataTable, element);\n",
       "          const docLink = document.createElement('div');\n",
       "          docLink.innerHTML = docLinkHtml;\n",
       "          element.appendChild(docLink);\n",
       "        }\n",
       "      </script>\n",
       "    </div>\n",
       "  </div>\n",
       "  "
      ],
      "text/plain": [
       "   USMER  MEDICAL_UNIT  SEX  PATIENT_TYPE  INTUBED  PNEUMONIA  AGE  PREGNANT  \\\n",
       "0      2             1    1             1       97          1   65         2   \n",
       "1      2             1    2             1       97          1   72        97   \n",
       "2      2             1    2             2        1          2   55        97   \n",
       "3      2             1    1             1       97          2   53         2   \n",
       "4      2             1    2             1       97          2   68        97   \n",
       "\n",
       "   DIABETES  COPD  ...  INMSUPR  HIPERTENSION  OTHER_DISEASE  CARDIOVASCULAR  \\\n",
       "0         2     2  ...        2             1              2               2   \n",
       "1         2     2  ...        2             1              2               2   \n",
       "2         1     2  ...        2             2              2               2   \n",
       "3         2     2  ...        2             2              2               2   \n",
       "4         1     2  ...        2             1              2               2   \n",
       "\n",
       "   OBESITY  RENAL_CHRONIC  TOBACCO  CLASIFFICATION_FINAL  ICU  DIED  \n",
       "0        2              2        2                     3   97     0  \n",
       "1        1              1        2                     5   97     0  \n",
       "2        2              2        2                     3    2     0  \n",
       "3        2              2        2                     7   97     0  \n",
       "4        2              2        2                     3   97     0  \n",
       "\n",
       "[5 rows x 21 columns]"
      ]
     },
     "execution_count": 10,
     "metadata": {},
     "output_type": "execute_result"
    }
   ],
   "source": [
    "\n",
    "data.drop(['DATE_DIED'],axis=1,inplace=True)\n",
    "data.head()"
   ]
  },
  {
   "cell_type": "code",
   "execution_count": 11,
   "metadata": {
    "colab": {
     "base_uri": "https://localhost:8080/"
    },
    "executionInfo": {
     "elapsed": 10,
     "status": "ok",
     "timestamp": 1672575632368,
     "user": {
      "displayName": "Komal Rethi",
      "userId": "17481055191155146212"
     },
     "user_tz": -330
    },
    "id": "31C06Czn5Uyj",
    "outputId": "38f202d4-3e2a-4950-ada9-43445b3a1fd5"
   },
   "outputs": [
    {
     "data": {
      "text/plain": [
       "1    971633\n",
       "0     76942\n",
       "Name: DIED, dtype: int64"
      ]
     },
     "execution_count": 11,
     "metadata": {},
     "output_type": "execute_result"
    }
   ],
   "source": [
    "data['DIED'].value_counts()"
   ]
  },
  {
   "cell_type": "code",
   "execution_count": 12,
   "metadata": {
    "colab": {
     "base_uri": "https://localhost:8080/",
     "height": 1000
    },
    "executionInfo": {
     "elapsed": 6002,
     "status": "ok",
     "timestamp": 1672575639258,
     "user": {
      "displayName": "Komal Rethi",
      "userId": "17481055191155146212"
     },
     "user_tz": -330
    },
    "id": "x4N3fSH85vjx",
    "outputId": "fa1f8fbb-e03f-4ecd-c22e-c3d7a1252e79"
   },
   "outputs": [
    {
     "data": {
      "image/png": "[encoded data removed]",
      "text/plain": [
       "<Figure size 432x288 with 1 Axes>"
      ]
     },
     "metadata": {},
     "output_type": "display_data"
    },
    {
     "data": {
      "image/png": "[encoded data removed]",
      "text/plain": [
       "<Figure size 432x288 with 1 Axes>"
      ]
     },
     "metadata": {},
     "output_type": "display_data"
    },
    {
     "data": {
      "image/png": "[encoded data removed]",
      "text/plain": [
       "<Figure size 432x288 with 1 Axes>"
      ]
     },
     "metadata": {},
     "output_type": "display_data"
    },
    {
     "data": {
      "image/png": "[encoded data removed]",
      "text/plain": [
       "<Figure size 432x288 with 1 Axes>"
      ]
     },
     "metadata": {},
     "output_type": "display_data"
    },
    {
     "data": {
      "image/png": "[encoded data removed]",
      "text/plain": [
       "<Figure size 432x288 with 1 Axes>"
      ]
     },
     "metadata": {},
     "output_type": "display_data"
    },
    {
     "data": {
      "image/png": "[encoded data removed]",
      "text/plain": [
       "<Figure size 432x288 with 1 Axes>"
      ]
     },
     "metadata": {},
     "output_type": "display_data"
    },
    {
     "data": {
      "image/png": "[encoded data removed]",
      "text/plain": [
       "<Figure size 432x288 with 1 Axes>"
      ]
     },
     "metadata": {},
     "output_type": "display_data"
    },
    {
     "data": {
      "image/png": "[encoded data removed]",
      "text/plain": [
       "<Figure size 432x288 with 1 Axes>"
      ]
     },
     "metadata": {},
     "output_type": "display_data"
    },
    {
     "data": {
      "image/png": "[encoded data removed]",
      "text/plain": [
       "<Figure size 432x288 with 1 Axes>"
      ]
     },
     "metadata": {},
     "output_type": "display_data"
    },
    {
     "data": {
      "image/png": "[encoded data removed]",
      "text/plain": [
       "<Figure size 432x288 with 1 Axes>"
      ]
     },
     "metadata": {},
     "output_type": "display_data"
    },
    {
     "data": {
      "image/png": "[encoded data removed]",
      "text/plain": [
       "<Figure size 432x288 with 1 Axes>"
      ]
     },
     "metadata": {},
     "output_type": "display_data"
    },
    {
     "data": {
      "image/png": "[encoded data removed]",
      "text/plain": [
       "<Figure size 432x288 with 1 Axes>"
      ]
     },
     "metadata": {},
     "output_type": "display_data"
    },
    {
     "data": {
      "image/png": "[encoded data removed]",
      "text/plain": [
       "<Figure size 432x288 with 1 Axes>"
      ]
     },
     "metadata": {},
     "output_type": "display_data"
    },
    {
     "data": {
      "image/png": "[encoded data removed]",
      "text/plain": [
       "<Figure size 432x288 with 1 Axes>"
      ]
     },
     "metadata": {},
     "output_type": "display_data"
    },
    {
     "data": {
      "image/png": "[encoded data removed]",
      "text/plain": [
       "<Figure size 432x288 with 1 Axes>"
      ]
     },
     "metadata": {},
     "output_type": "display_data"
    },
    {
     "data": {
      "image/png": "[encoded data removed]",
      "text/plain": [
       "<Figure size 432x288 with 1 Axes>"
      ]
     },
     "metadata": {},
     "output_type": "display_data"
    },
    {
     "data": {
      "image/png": "[encoded data removed]",
      "text/plain": [
       "<Figure size 432x288 with 1 Axes>"
      ]
     },
     "metadata": {},
     "output_type": "display_data"
    },
    {
     "data": {
      "image/png": "[encoded data removed]",
      "text/plain": [
       "<Figure size 432x288 with 1 Axes>"
      ]
     },
     "metadata": {},
     "output_type": "display_data"
    },
    {
     "data": {
      "image/png": "[encoded data removed]",
      "text/plain": [
       "<Figure size 432x288 with 1 Axes>"
      ]
     },
     "metadata": {},
     "output_type": "display_data"
    },
    {
     "data": {
      "image/png": "[encoded data removed]",
      "text/plain": [
       "<Figure size 432x288 with 1 Axes>"
      ]
     },
     "metadata": {},
     "output_type": "display_data"
    },
    {
     "data": {
      "image/png": "[encoded data removed]",
      "text/plain": [
       "<Figure size 432x288 with 1 Axes>"
      ]
     },
     "metadata": {},
     "output_type": "display_data"
    }
   ],
   "source": [
    "for feature in data.columns:\n",
    "    df=data.copy()\n",
    "    figure=df[feature].hist(bins=50)\n",
    "    plt.title(feature)\n",
    "    plt.xlabel(feature)\n",
    "    plt.ylabel('Count')\n",
    "    plt.show()"
   ]
  },
  {
   "cell_type": "code",
   "execution_count": 12,
   "metadata": {
    "executionInfo": {
     "elapsed": 10,
     "status": "ok",
     "timestamp": 1672575639259,
     "user": {
      "displayName": "Komal Rethi",
      "userId": "17481055191155146212"
     },
     "user_tz": -330
    },
    "id": "j7CacFF77opW"
   },
   "outputs": [],
   "source": []
  },
  {
   "cell_type": "code",
   "execution_count": 13,
   "metadata": {
    "colab": {
     "base_uri": "https://localhost:8080/",
     "height": 1000
    },
    "executionInfo": {
     "elapsed": 4107,
     "status": "ok",
     "timestamp": 1672575643357,
     "user": {
      "displayName": "Komal Rethi",
      "userId": "17481055191155146212"
     },
     "user_tz": -330
    },
    "id": "Op6lK9D38dH-",
    "outputId": "6f57c69b-8ed9-4a46-9316-262ed72c66f8"
   },
   "outputs": [
    {
     "data": {
      "image/png": "[encoded data removed]",
      "text/plain": [
       "<Figure size 432x288 with 1 Axes>"
      ]
     },
     "metadata": {},
     "output_type": "display_data"
    },
    {
     "data": {
      "image/png": "[encoded data removed]",
      "text/plain": [
       "<Figure size 432x288 with 1 Axes>"
      ]
     },
     "metadata": {},
     "output_type": "display_data"
    },
    {
     "data": {
      "image/png": "[encoded data removed]",
      "text/plain": [
       "<Figure size 432x288 with 1 Axes>"
      ]
     },
     "metadata": {},
     "output_type": "display_data"
    },
    {
     "data": {
      "image/png": "[encoded data removed]",
      "text/plain": [
       "<Figure size 432x288 with 1 Axes>"
      ]
     },
     "metadata": {},
     "output_type": "display_data"
    },
    {
     "data": {
      "image/png": "[encoded data removed]",
      "text/plain": [
       "<Figure size 432x288 with 1 Axes>"
      ]
     },
     "metadata": {},
     "output_type": "display_data"
    },
    {
     "data": {
      "image/png": "[encoded data removed]",
      "text/plain": [
       "<Figure size 432x288 with 1 Axes>"
      ]
     },
     "metadata": {},
     "output_type": "display_data"
    },
    {
     "data": {
      "image/png": "[encoded data removed]",
      "text/plain": [
       "<Figure size 432x288 with 1 Axes>"
      ]
     },
     "metadata": {},
     "output_type": "display_data"
    },
    {
     "data": {
      "image/png": "[encoded data removed]",
      "text/plain": [
       "<Figure size 432x288 with 1 Axes>"
      ]
     },
     "metadata": {},
     "output_type": "display_data"
    },
    {
     "data": {
      "image/png": "[encoded data removed]",
      "text/plain": [
       "<Figure size 432x288 with 1 Axes>"
      ]
     },
     "metadata": {},
     "output_type": "display_data"
    },
    {
     "data": {
      "image/png": "[encoded data removed]",
      "text/plain": [
       "<Figure size 432x288 with 1 Axes>"
      ]
     },
     "metadata": {},
     "output_type": "display_data"
    },
    {
     "data": {
      "image/png": "[encoded data removed]",
      "text/plain": [
       "<Figure size 432x288 with 1 Axes>"
      ]
     },
     "metadata": {},
     "output_type": "display_data"
    },
    {
     "data": {
      "image/png": "[encoded data removed]",
      "text/plain": [
       "<Figure size 432x288 with 1 Axes>"
      ]
     },
     "metadata": {},
     "output_type": "display_data"
    },
    {
     "data": {
      "image/png": "[encoded data removed]",
      "text/plain": [
       "<Figure size 432x288 with 1 Axes>"
      ]
     },
     "metadata": {},
     "output_type": "display_data"
    },
    {
     "data": {
      "image/png": "[encoded data removed]",
      "text/plain": [
       "<Figure size 432x288 with 1 Axes>"
      ]
     },
     "metadata": {},
     "output_type": "display_data"
    },
    {
     "data": {
      "image/png": "[encoded data removed]",
      "text/plain": [
       "<Figure size 432x288 with 1 Axes>"
      ]
     },
     "metadata": {},
     "output_type": "display_data"
    },
    {
     "data": {
      "image/png": "[encoded data removed]",
      "text/plain": [
       "<Figure size 432x288 with 1 Axes>"
      ]
     },
     "metadata": {},
     "output_type": "display_data"
    },
    {
     "data": {
      "image/png": "[encoded data removed]",
      "text/plain": [
       "<Figure size 432x288 with 1 Axes>"
      ]
     },
     "metadata": {},
     "output_type": "display_data"
    },
    {
     "data": {
      "image/png": "[encoded data removed]",
      "text/plain": [
       "<Figure size 432x288 with 1 Axes>"
      ]
     },
     "metadata": {},
     "output_type": "display_data"
    },
    {
     "data": {
      "image/png": "[encoded data removed]",
      "text/plain": [
       "<Figure size 432x288 with 1 Axes>"
      ]
     },
     "metadata": {},
     "output_type": "display_data"
    },
    {
     "data": {
      "image/png": "[encoded data removed]",
      "text/plain": [
       "<Figure size 432x288 with 1 Axes>"
      ]
     },
     "metadata": {},
     "output_type": "display_data"
    }
   ],
   "source": [
    "for feature in data.columns[:-1]:\n",
    "    df = data.copy()\n",
    "    plt.boxplot(data=df,x=feature)\n",
    "    plt.xlabel(feature)\n",
    "    plt.show()"
   ]
  },
  {
   "cell_type": "code",
   "execution_count": 13,
   "metadata": {
    "executionInfo": {
     "elapsed": 6,
     "status": "ok",
     "timestamp": 1672575643358,
     "user": {
      "displayName": "Komal Rethi",
      "userId": "17481055191155146212"
     },
     "user_tz": -330
    },
    "id": "hm-0E9hx8wBS"
   },
   "outputs": [],
   "source": []
  },
  {
   "cell_type": "code",
   "execution_count": 14,
   "metadata": {
    "colab": {
     "base_uri": "https://localhost:8080/",
     "height": 801
    },
    "executionInfo": {
     "elapsed": 882,
     "status": "ok",
     "timestamp": 1672575644235,
     "user": {
      "displayName": "Komal Rethi",
      "userId": "17481055191155146212"
     },
     "user_tz": -330
    },
    "id": "nEWv_QTz89mx",
    "outputId": "f80317ba-277d-4e0d-a847-bc8885fc7aff"
   },
   "outputs": [
    {
     "data": {
      "text/html": [
       "\n",
       "  <div id=\"df-139fdc30-7456-4706-adf4-ae7f83570de4\">\n",
       "    <div class=\"colab-df-container\">\n",
       "      <div>\n",
       "<style scoped>\n",
       "    .dataframe tbody tr th:only-of-type {\n",
       "        vertical-align: middle;\n",
       "    }\n",
       "\n",
       "    .dataframe tbody tr th {\n",
       "        vertical-align: top;\n",
       "    }\n",
       "\n",
       "    .dataframe thead th {\n",
       "        text-align: right;\n",
       "    }\n",
       "</style>\n",
       "<table border=\"1\" class=\"dataframe\">\n",
       "  <thead>\n",
       "    <tr style=\"text-align: right;\">\n",
       "      <th></th>\n",
       "      <th>USMER</th>\n",
       "      <th>MEDICAL_UNIT</th>\n",
       "      <th>SEX</th>\n",
       "      <th>PATIENT_TYPE</th>\n",
       "      <th>INTUBED</th>\n",
       "      <th>PNEUMONIA</th>\n",
       "      <th>AGE</th>\n",
       "      <th>PREGNANT</th>\n",
       "      <th>DIABETES</th>\n",
       "      <th>COPD</th>\n",
       "      <th>...</th>\n",
       "      <th>INMSUPR</th>\n",
       "      <th>HIPERTENSION</th>\n",
       "      <th>OTHER_DISEASE</th>\n",
       "      <th>CARDIOVASCULAR</th>\n",
       "      <th>OBESITY</th>\n",
       "      <th>RENAL_CHRONIC</th>\n",
       "      <th>TOBACCO</th>\n",
       "      <th>CLASIFFICATION_FINAL</th>\n",
       "      <th>ICU</th>\n",
       "      <th>DIED</th>\n",
       "    </tr>\n",
       "  </thead>\n",
       "  <tbody>\n",
       "    <tr>\n",
       "      <th>USMER</th>\n",
       "      <td>1.000000</td>\n",
       "      <td>0.127927</td>\n",
       "      <td>-0.001126</td>\n",
       "      <td>-0.190570</td>\n",
       "      <td>0.175457</td>\n",
       "      <td>-0.154950</td>\n",
       "      <td>-0.045088</td>\n",
       "      <td>-0.001469</td>\n",
       "      <td>0.014704</td>\n",
       "      <td>0.011030</td>\n",
       "      <td>...</td>\n",
       "      <td>0.003234</td>\n",
       "      <td>0.014830</td>\n",
       "      <td>-0.015763</td>\n",
       "      <td>0.010097</td>\n",
       "      <td>0.014567</td>\n",
       "      <td>0.011527</td>\n",
       "      <td>0.010638</td>\n",
       "      <td>0.028840</td>\n",
       "      <td>0.174901</td>\n",
       "      <td>0.112671</td>\n",
       "    </tr>\n",
       "    <tr>\n",
       "      <th>MEDICAL_UNIT</th>\n",
       "      <td>0.127927</td>\n",
       "      <td>1.000000</td>\n",
       "      <td>0.001475</td>\n",
       "      <td>-0.205413</td>\n",
       "      <td>0.205243</td>\n",
       "      <td>-0.046433</td>\n",
       "      <td>-0.082223</td>\n",
       "      <td>0.005300</td>\n",
       "      <td>0.019523</td>\n",
       "      <td>0.014209</td>\n",
       "      <td>...</td>\n",
       "      <td>0.011785</td>\n",
       "      <td>0.020964</td>\n",
       "      <td>0.027453</td>\n",
       "      <td>0.014406</td>\n",
       "      <td>0.019577</td>\n",
       "      <td>0.014751</td>\n",
       "      <td>0.012282</td>\n",
       "      <td>0.079981</td>\n",
       "      <td>0.205141</td>\n",
       "      <td>0.149030</td>\n",
       "    </tr>\n",
       "    <tr>\n",
       "      <th>SEX</th>\n",
       "      <td>-0.001126</td>\n",
       "      <td>0.001475</td>\n",
       "      <td>1.000000</td>\n",
       "      <td>0.089505</td>\n",
       "      <td>-0.089943</td>\n",
       "      <td>-0.012131</td>\n",
       "      <td>0.028367</td>\n",
       "      <td>0.992713</td>\n",
       "      <td>0.008888</td>\n",
       "      <td>0.009372</td>\n",
       "      <td>...</td>\n",
       "      <td>0.007999</td>\n",
       "      <td>0.009257</td>\n",
       "      <td>0.009039</td>\n",
       "      <td>0.008174</td>\n",
       "      <td>0.009858</td>\n",
       "      <td>0.008249</td>\n",
       "      <td>0.004919</td>\n",
       "      <td>-0.057782</td>\n",
       "      <td>-0.089844</td>\n",
       "      <td>-0.081383</td>\n",
       "    </tr>\n",
       "    <tr>\n",
       "      <th>PATIENT_TYPE</th>\n",
       "      <td>-0.190570</td>\n",
       "      <td>-0.205413</td>\n",
       "      <td>0.089505</td>\n",
       "      <td>1.000000</td>\n",
       "      <td>-0.976335</td>\n",
       "      <td>0.022966</td>\n",
       "      <td>0.315193</td>\n",
       "      <td>0.088340</td>\n",
       "      <td>0.008743</td>\n",
       "      <td>0.019548</td>\n",
       "      <td>...</td>\n",
       "      <td>0.024924</td>\n",
       "      <td>0.006852</td>\n",
       "      <td>0.036724</td>\n",
       "      <td>0.022175</td>\n",
       "      <td>0.019650</td>\n",
       "      <td>0.018873</td>\n",
       "      <td>0.022123</td>\n",
       "      <td>-0.183370</td>\n",
       "      <td>-0.975810</td>\n",
       "      <td>-0.515582</td>\n",
       "    </tr>\n",
       "    <tr>\n",
       "      <th>INTUBED</th>\n",
       "      <td>0.175457</td>\n",
       "      <td>0.205243</td>\n",
       "      <td>-0.089943</td>\n",
       "      <td>-0.976335</td>\n",
       "      <td>1.000000</td>\n",
       "      <td>0.079743</td>\n",
       "      <td>-0.317945</td>\n",
       "      <td>-0.088097</td>\n",
       "      <td>-0.009215</td>\n",
       "      <td>-0.020124</td>\n",
       "      <td>...</td>\n",
       "      <td>-0.024140</td>\n",
       "      <td>-0.007628</td>\n",
       "      <td>-0.035404</td>\n",
       "      <td>-0.022442</td>\n",
       "      <td>-0.020217</td>\n",
       "      <td>-0.019309</td>\n",
       "      <td>-0.022428</td>\n",
       "      <td>0.193075</td>\n",
       "      <td>0.999434</td>\n",
       "      <td>0.509464</td>\n",
       "    </tr>\n",
       "    <tr>\n",
       "      <th>PNEUMONIA</th>\n",
       "      <td>-0.154950</td>\n",
       "      <td>-0.046433</td>\n",
       "      <td>-0.012131</td>\n",
       "      <td>0.022966</td>\n",
       "      <td>0.079743</td>\n",
       "      <td>1.000000</td>\n",
       "      <td>-0.073127</td>\n",
       "      <td>-0.007284</td>\n",
       "      <td>-0.004484</td>\n",
       "      <td>-0.005618</td>\n",
       "      <td>...</td>\n",
       "      <td>-0.000802</td>\n",
       "      <td>-0.004799</td>\n",
       "      <td>0.001612</td>\n",
       "      <td>-0.004758</td>\n",
       "      <td>-0.004276</td>\n",
       "      <td>-0.005287</td>\n",
       "      <td>-0.004325</td>\n",
       "      <td>0.075351</td>\n",
       "      <td>0.079691</td>\n",
       "      <td>0.026511</td>\n",
       "    </tr>\n",
       "    <tr>\n",
       "      <th>AGE</th>\n",
       "      <td>-0.045088</td>\n",
       "      <td>-0.082223</td>\n",
       "      <td>0.028367</td>\n",
       "      <td>0.315193</td>\n",
       "      <td>-0.317945</td>\n",
       "      <td>-0.073127</td>\n",
       "      <td>1.000000</td>\n",
       "      <td>0.027257</td>\n",
       "      <td>0.004422</td>\n",
       "      <td>0.019048</td>\n",
       "      <td>...</td>\n",
       "      <td>0.022820</td>\n",
       "      <td>-0.004964</td>\n",
       "      <td>0.022837</td>\n",
       "      <td>0.019489</td>\n",
       "      <td>0.015500</td>\n",
       "      <td>0.020124</td>\n",
       "      <td>0.021263</td>\n",
       "      <td>-0.152637</td>\n",
       "      <td>-0.317813</td>\n",
       "      <td>-0.320801</td>\n",
       "    </tr>\n",
       "    <tr>\n",
       "      <th>PREGNANT</th>\n",
       "      <td>-0.001469</td>\n",
       "      <td>0.005300</td>\n",
       "      <td>0.992713</td>\n",
       "      <td>0.088340</td>\n",
       "      <td>-0.088097</td>\n",
       "      <td>-0.007284</td>\n",
       "      <td>0.027257</td>\n",
       "      <td>1.000000</td>\n",
       "      <td>0.014707</td>\n",
       "      <td>0.015736</td>\n",
       "      <td>...</td>\n",
       "      <td>0.014265</td>\n",
       "      <td>0.015335</td>\n",
       "      <td>0.014175</td>\n",
       "      <td>0.014378</td>\n",
       "      <td>0.015895</td>\n",
       "      <td>0.014392</td>\n",
       "      <td>0.010794</td>\n",
       "      <td>-0.057809</td>\n",
       "      <td>-0.087991</td>\n",
       "      <td>-0.079864</td>\n",
       "    </tr>\n",
       "    <tr>\n",
       "      <th>DIABETES</th>\n",
       "      <td>0.014704</td>\n",
       "      <td>0.019523</td>\n",
       "      <td>0.008888</td>\n",
       "      <td>0.008743</td>\n",
       "      <td>-0.009215</td>\n",
       "      <td>-0.004484</td>\n",
       "      <td>0.004422</td>\n",
       "      <td>0.014707</td>\n",
       "      <td>1.000000</td>\n",
       "      <td>0.828823</td>\n",
       "      <td>...</td>\n",
       "      <td>0.781108</td>\n",
       "      <td>0.835018</td>\n",
       "      <td>0.634611</td>\n",
       "      <td>0.809417</td>\n",
       "      <td>0.752739</td>\n",
       "      <td>0.812657</td>\n",
       "      <td>0.771763</td>\n",
       "      <td>-0.004739</td>\n",
       "      <td>-0.009223</td>\n",
       "      <td>-0.018588</td>\n",
       "    </tr>\n",
       "    <tr>\n",
       "      <th>COPD</th>\n",
       "      <td>0.011030</td>\n",
       "      <td>0.014209</td>\n",
       "      <td>0.009372</td>\n",
       "      <td>0.019548</td>\n",
       "      <td>-0.020124</td>\n",
       "      <td>-0.005618</td>\n",
       "      <td>0.019048</td>\n",
       "      <td>0.015736</td>\n",
       "      <td>0.828823</td>\n",
       "      <td>1.000000</td>\n",
       "      <td>...</td>\n",
       "      <td>0.852273</td>\n",
       "      <td>0.855249</td>\n",
       "      <td>0.687323</td>\n",
       "      <td>0.880097</td>\n",
       "      <td>0.814868</td>\n",
       "      <td>0.884032</td>\n",
       "      <td>0.836097</td>\n",
       "      <td>-0.010336</td>\n",
       "      <td>-0.020146</td>\n",
       "      <td>-0.031488</td>\n",
       "    </tr>\n",
       "    <tr>\n",
       "      <th>ASTHMA</th>\n",
       "      <td>0.010814</td>\n",
       "      <td>0.013312</td>\n",
       "      <td>0.010415</td>\n",
       "      <td>0.023042</td>\n",
       "      <td>-0.023446</td>\n",
       "      <td>-0.005392</td>\n",
       "      <td>0.022715</td>\n",
       "      <td>0.016765</td>\n",
       "      <td>0.829349</td>\n",
       "      <td>0.908929</td>\n",
       "      <td>...</td>\n",
       "      <td>0.868917</td>\n",
       "      <td>0.864264</td>\n",
       "      <td>0.696709</td>\n",
       "      <td>0.891026</td>\n",
       "      <td>0.824631</td>\n",
       "      <td>0.895050</td>\n",
       "      <td>0.845067</td>\n",
       "      <td>-0.011178</td>\n",
       "      <td>-0.023415</td>\n",
       "      <td>-0.033924</td>\n",
       "    </tr>\n",
       "    <tr>\n",
       "      <th>INMSUPR</th>\n",
       "      <td>0.003234</td>\n",
       "      <td>0.011785</td>\n",
       "      <td>0.007999</td>\n",
       "      <td>0.024924</td>\n",
       "      <td>-0.024140</td>\n",
       "      <td>-0.000802</td>\n",
       "      <td>0.022820</td>\n",
       "      <td>0.014265</td>\n",
       "      <td>0.781108</td>\n",
       "      <td>0.852273</td>\n",
       "      <td>...</td>\n",
       "      <td>1.000000</td>\n",
       "      <td>0.825158</td>\n",
       "      <td>0.734826</td>\n",
       "      <td>0.853365</td>\n",
       "      <td>0.783953</td>\n",
       "      <td>0.852755</td>\n",
       "      <td>0.806749</td>\n",
       "      <td>-0.009412</td>\n",
       "      <td>-0.024077</td>\n",
       "      <td>-0.031415</td>\n",
       "    </tr>\n",
       "    <tr>\n",
       "      <th>HIPERTENSION</th>\n",
       "      <td>0.014830</td>\n",
       "      <td>0.020964</td>\n",
       "      <td>0.009257</td>\n",
       "      <td>0.006852</td>\n",
       "      <td>-0.007628</td>\n",
       "      <td>-0.004799</td>\n",
       "      <td>-0.004964</td>\n",
       "      <td>0.015335</td>\n",
       "      <td>0.835018</td>\n",
       "      <td>0.855249</td>\n",
       "      <td>...</td>\n",
       "      <td>0.825158</td>\n",
       "      <td>1.000000</td>\n",
       "      <td>0.671532</td>\n",
       "      <td>0.861063</td>\n",
       "      <td>0.805127</td>\n",
       "      <td>0.860477</td>\n",
       "      <td>0.816539</td>\n",
       "      <td>-0.006020</td>\n",
       "      <td>-0.007573</td>\n",
       "      <td>-0.016940</td>\n",
       "    </tr>\n",
       "    <tr>\n",
       "      <th>OTHER_DISEASE</th>\n",
       "      <td>-0.015763</td>\n",
       "      <td>0.027453</td>\n",
       "      <td>0.009039</td>\n",
       "      <td>0.036724</td>\n",
       "      <td>-0.035404</td>\n",
       "      <td>0.001612</td>\n",
       "      <td>0.022837</td>\n",
       "      <td>0.014175</td>\n",
       "      <td>0.634611</td>\n",
       "      <td>0.687323</td>\n",
       "      <td>...</td>\n",
       "      <td>0.734826</td>\n",
       "      <td>0.671532</td>\n",
       "      <td>1.000000</td>\n",
       "      <td>0.717129</td>\n",
       "      <td>0.649809</td>\n",
       "      <td>0.704725</td>\n",
       "      <td>0.668621</td>\n",
       "      <td>-0.011143</td>\n",
       "      <td>-0.035330</td>\n",
       "      <td>-0.033696</td>\n",
       "    </tr>\n",
       "    <tr>\n",
       "      <th>CARDIOVASCULAR</th>\n",
       "      <td>0.010097</td>\n",
       "      <td>0.014406</td>\n",
       "      <td>0.008174</td>\n",
       "      <td>0.022175</td>\n",
       "      <td>-0.022442</td>\n",
       "      <td>-0.004758</td>\n",
       "      <td>0.019489</td>\n",
       "      <td>0.014378</td>\n",
       "      <td>0.809417</td>\n",
       "      <td>0.880097</td>\n",
       "      <td>...</td>\n",
       "      <td>0.853365</td>\n",
       "      <td>0.861063</td>\n",
       "      <td>0.717129</td>\n",
       "      <td>1.000000</td>\n",
       "      <td>0.834389</td>\n",
       "      <td>0.913248</td>\n",
       "      <td>0.858102</td>\n",
       "      <td>-0.012143</td>\n",
       "      <td>-0.022413</td>\n",
       "      <td>-0.032237</td>\n",
       "    </tr>\n",
       "    <tr>\n",
       "      <th>OBESITY</th>\n",
       "      <td>0.014567</td>\n",
       "      <td>0.019577</td>\n",
       "      <td>0.009858</td>\n",
       "      <td>0.019650</td>\n",
       "      <td>-0.020217</td>\n",
       "      <td>-0.004276</td>\n",
       "      <td>0.015500</td>\n",
       "      <td>0.015895</td>\n",
       "      <td>0.752739</td>\n",
       "      <td>0.814868</td>\n",
       "      <td>...</td>\n",
       "      <td>0.783953</td>\n",
       "      <td>0.805127</td>\n",
       "      <td>0.649809</td>\n",
       "      <td>0.834389</td>\n",
       "      <td>1.000000</td>\n",
       "      <td>0.842466</td>\n",
       "      <td>0.801834</td>\n",
       "      <td>-0.006924</td>\n",
       "      <td>-0.020254</td>\n",
       "      <td>-0.029479</td>\n",
       "    </tr>\n",
       "    <tr>\n",
       "      <th>RENAL_CHRONIC</th>\n",
       "      <td>0.011527</td>\n",
       "      <td>0.014751</td>\n",
       "      <td>0.008249</td>\n",
       "      <td>0.018873</td>\n",
       "      <td>-0.019309</td>\n",
       "      <td>-0.005287</td>\n",
       "      <td>0.020124</td>\n",
       "      <td>0.014392</td>\n",
       "      <td>0.812657</td>\n",
       "      <td>0.884032</td>\n",
       "      <td>...</td>\n",
       "      <td>0.852755</td>\n",
       "      <td>0.860477</td>\n",
       "      <td>0.704725</td>\n",
       "      <td>0.913248</td>\n",
       "      <td>0.842466</td>\n",
       "      <td>1.000000</td>\n",
       "      <td>0.868761</td>\n",
       "      <td>-0.011342</td>\n",
       "      <td>-0.019285</td>\n",
       "      <td>-0.029907</td>\n",
       "    </tr>\n",
       "    <tr>\n",
       "      <th>TOBACCO</th>\n",
       "      <td>0.010638</td>\n",
       "      <td>0.012282</td>\n",
       "      <td>0.004919</td>\n",
       "      <td>0.022123</td>\n",
       "      <td>-0.022428</td>\n",
       "      <td>-0.004325</td>\n",
       "      <td>0.021263</td>\n",
       "      <td>0.010794</td>\n",
       "      <td>0.771763</td>\n",
       "      <td>0.836097</td>\n",
       "      <td>...</td>\n",
       "      <td>0.806749</td>\n",
       "      <td>0.816539</td>\n",
       "      <td>0.668621</td>\n",
       "      <td>0.858102</td>\n",
       "      <td>0.801834</td>\n",
       "      <td>0.868761</td>\n",
       "      <td>1.000000</td>\n",
       "      <td>-0.012567</td>\n",
       "      <td>-0.022445</td>\n",
       "      <td>-0.031958</td>\n",
       "    </tr>\n",
       "    <tr>\n",
       "      <th>CLASIFFICATION_FINAL</th>\n",
       "      <td>0.028840</td>\n",
       "      <td>0.079981</td>\n",
       "      <td>-0.057782</td>\n",
       "      <td>-0.183370</td>\n",
       "      <td>0.193075</td>\n",
       "      <td>0.075351</td>\n",
       "      <td>-0.152637</td>\n",
       "      <td>-0.057809</td>\n",
       "      <td>-0.004739</td>\n",
       "      <td>-0.010336</td>\n",
       "      <td>...</td>\n",
       "      <td>-0.009412</td>\n",
       "      <td>-0.006020</td>\n",
       "      <td>-0.011143</td>\n",
       "      <td>-0.012143</td>\n",
       "      <td>-0.006924</td>\n",
       "      <td>-0.011342</td>\n",
       "      <td>-0.012567</td>\n",
       "      <td>1.000000</td>\n",
       "      <td>0.193163</td>\n",
       "      <td>0.196085</td>\n",
       "    </tr>\n",
       "    <tr>\n",
       "      <th>ICU</th>\n",
       "      <td>0.174901</td>\n",
       "      <td>0.205141</td>\n",
       "      <td>-0.089844</td>\n",
       "      <td>-0.975810</td>\n",
       "      <td>0.999434</td>\n",
       "      <td>0.079691</td>\n",
       "      <td>-0.317813</td>\n",
       "      <td>-0.087991</td>\n",
       "      <td>-0.009223</td>\n",
       "      <td>-0.020146</td>\n",
       "      <td>...</td>\n",
       "      <td>-0.024077</td>\n",
       "      <td>-0.007573</td>\n",
       "      <td>-0.035330</td>\n",
       "      <td>-0.022413</td>\n",
       "      <td>-0.020254</td>\n",
       "      <td>-0.019285</td>\n",
       "      <td>-0.022445</td>\n",
       "      <td>0.193163</td>\n",
       "      <td>1.000000</td>\n",
       "      <td>0.508414</td>\n",
       "    </tr>\n",
       "    <tr>\n",
       "      <th>DIED</th>\n",
       "      <td>0.112671</td>\n",
       "      <td>0.149030</td>\n",
       "      <td>-0.081383</td>\n",
       "      <td>-0.515582</td>\n",
       "      <td>0.509464</td>\n",
       "      <td>0.026511</td>\n",
       "      <td>-0.320801</td>\n",
       "      <td>-0.079864</td>\n",
       "      <td>-0.018588</td>\n",
       "      <td>-0.031488</td>\n",
       "      <td>...</td>\n",
       "      <td>-0.031415</td>\n",
       "      <td>-0.016940</td>\n",
       "      <td>-0.033696</td>\n",
       "      <td>-0.032237</td>\n",
       "      <td>-0.029479</td>\n",
       "      <td>-0.029907</td>\n",
       "      <td>-0.031958</td>\n",
       "      <td>0.196085</td>\n",
       "      <td>0.508414</td>\n",
       "      <td>1.000000</td>\n",
       "    </tr>\n",
       "  </tbody>\n",
       "</table>\n",
       "<p>21 rows × 21 columns</p>\n",
       "</div>\n",
       "      <button class=\"colab-df-convert\" onclick=\"convertToInteractive('df-139fdc30-7456-4706-adf4-ae7f83570de4')\"\n",
       "              title=\"Convert this dataframe to an interactive table.\"\n",
       "              style=\"display:none;\">\n",
       "        \n",
       "  <svg xmlns=\"http://www.w3.org/2000/svg\" height=\"24px\"viewBox=\"0 0 24 24\"\n",
       "       width=\"24px\">\n",
       "    <path d=\"M0 0h24v24H0V0z\" fill=\"none\"/>\n",
       "    <path d=\"M18.56 5.44l.94 2.06.94-2.06 2.06-.94-2.06-.94-.94-2.06-.94 2.06-2.06.94zm-11 1L8.5 8.5l.94-2.06 2.06-.94-2.06-.94L8.5 2.5l-.94 2.06-2.06.94zm10 10l.94 2.06.94-2.06 2.06-.94-2.06-.94-.94-2.06-.94 2.06-2.06.94z\"/><path d=\"M17.41 7.96l-1.37-1.37c-.4-.4-.92-.59-1.43-.59-.52 0-1.04.2-1.43.59L10.3 9.45l-7.72 7.72c-.78.78-.78 2.05 0 2.83L4 21.41c.39.39.9.59 1.41.59.51 0 1.02-.2 1.41-.59l7.78-7.78 2.81-2.81c.8-.78.8-2.07 0-2.86zM5.41 20L4 18.59l7.72-7.72 1.47 1.35L5.41 20z\"/>\n",
       "  </svg>\n",
       "      </button>\n",
       "      \n",
       "  <style>\n",
       "    .colab-df-container {\n",
       "      display:flex;\n",
       "      flex-wrap:wrap;\n",
       "      gap: 12px;\n",
       "    }\n",
       "\n",
       "    .colab-df-convert {\n",
       "      background-color: #E8F0FE;\n",
       "      border: none;\n",
       "      border-radius: 50%;\n",
       "      cursor: pointer;\n",
       "      display: none;\n",
       "      fill: #1967D2;\n",
       "      height: 32px;\n",
       "      padding: 0 0 0 0;\n",
       "      width: 32px;\n",
       "    }\n",
       "\n",
       "    .colab-df-convert:hover {\n",
       "      background-color: #E2EBFA;\n",
       "      box-shadow: 0px 1px 2px rgba(60, 64, 67, 0.3), 0px 1px 3px 1px rgba(60, 64, 67, 0.15);\n",
       "      fill: #174EA6;\n",
       "    }\n",
       "\n",
       "    [theme=dark] .colab-df-convert {\n",
       "      background-color: #3B4455;\n",
       "      fill: #D2E3FC;\n",
       "    }\n",
       "\n",
       "    [theme=dark] .colab-df-convert:hover {\n",
       "      background-color: #434B5C;\n",
       "      box-shadow: 0px 1px 3px 1px rgba(0, 0, 0, 0.15);\n",
       "      filter: drop-shadow(0px 1px 2px rgba(0, 0, 0, 0.3));\n",
       "      fill: #FFFFFF;\n",
       "    }\n",
       "  </style>\n",
       "\n",
       "      <script>\n",
       "        const buttonEl =\n",
       "          document.querySelector('#df-139fdc30-7456-4706-adf4-ae7f83570de4 button.colab-df-convert');\n",
       "        buttonEl.style.display =\n",
       "          google.colab.kernel.accessAllowed ? 'block' : 'none';\n",
       "\n",
       "        async function convertToInteractive(key) {\n",
       "          const element = document.querySelector('#df-139fdc30-7456-4706-adf4-ae7f83570de4');\n",
       "          const dataTable =\n",
       "            await google.colab.kernel.invokeFunction('convertToInteractive',\n",
       "                                                     [key], {});\n",
       "          if (!dataTable) return;\n",
       "\n",
       "          const docLinkHtml = 'Like what you see? Visit the ' +\n",
       "            '<a target=\"_blank\" href=https://colab.research.google.com/notebooks/data_table.ipynb>data table notebook</a>'\n",
       "            + ' to learn more about interactive tables.';\n",
       "          element.innerHTML = '';\n",
       "          dataTable['output_type'] = 'display_data';\n",
       "          await google.colab.output.renderOutput(dataTable, element);\n",
       "          const docLink = document.createElement('div');\n",
       "          docLink.innerHTML = docLinkHtml;\n",
       "          element.appendChild(docLink);\n",
       "        }\n",
       "      </script>\n",
       "    </div>\n",
       "  </div>\n",
       "  "
      ],
      "text/plain": [
       "                         USMER  MEDICAL_UNIT       SEX  PATIENT_TYPE  \\\n",
       "USMER                 1.000000      0.127927 -0.001126     -0.190570   \n",
       "MEDICAL_UNIT          0.127927      1.000000  0.001475     -0.205413   \n",
       "SEX                  -0.001126      0.001475  1.000000      0.089505   \n",
       "PATIENT_TYPE         -0.190570     -0.205413  0.089505      1.000000   \n",
       "INTUBED               0.175457      0.205243 -0.089943     -0.976335   \n",
       "PNEUMONIA            -0.154950     -0.046433 -0.012131      0.022966   \n",
       "AGE                  -0.045088     -0.082223  0.028367      0.315193   \n",
       "PREGNANT             -0.001469      0.005300  0.992713      0.088340   \n",
       "DIABETES              0.014704      0.019523  0.008888      0.008743   \n",
       "COPD                  0.011030      0.014209  0.009372      0.019548   \n",
       "ASTHMA                0.010814      0.013312  0.010415      0.023042   \n",
       "INMSUPR               0.003234      0.011785  0.007999      0.024924   \n",
       "HIPERTENSION          0.014830      0.020964  0.009257      0.006852   \n",
       "OTHER_DISEASE        -0.015763      0.027453  0.009039      0.036724   \n",
       "CARDIOVASCULAR        0.010097      0.014406  0.008174      0.022175   \n",
       "OBESITY               0.014567      0.019577  0.009858      0.019650   \n",
       "RENAL_CHRONIC         0.011527      0.014751  0.008249      0.018873   \n",
       "TOBACCO               0.010638      0.012282  0.004919      0.022123   \n",
       "CLASIFFICATION_FINAL  0.028840      0.079981 -0.057782     -0.183370   \n",
       "ICU                   0.174901      0.205141 -0.089844     -0.975810   \n",
       "DIED                  0.112671      0.149030 -0.081383     -0.515582   \n",
       "\n",
       "                       INTUBED  PNEUMONIA       AGE  PREGNANT  DIABETES  \\\n",
       "USMER                 0.175457  -0.154950 -0.045088 -0.001469  0.014704   \n",
       "MEDICAL_UNIT          0.205243  -0.046433 -0.082223  0.005300  0.019523   \n",
       "SEX                  -0.089943  -0.012131  0.028367  0.992713  0.008888   \n",
       "PATIENT_TYPE         -0.976335   0.022966  0.315193  0.088340  0.008743   \n",
       "INTUBED               1.000000   0.079743 -0.317945 -0.088097 -0.009215   \n",
       "PNEUMONIA             0.079743   1.000000 -0.073127 -0.007284 -0.004484   \n",
       "AGE                  -0.317945  -0.073127  1.000000  0.027257  0.004422   \n",
       "PREGNANT             -0.088097  -0.007284  0.027257  1.000000  0.014707   \n",
       "DIABETES             -0.009215  -0.004484  0.004422  0.014707  1.000000   \n",
       "COPD                 -0.020124  -0.005618  0.019048  0.015736  0.828823   \n",
       "ASTHMA               -0.023446  -0.005392  0.022715  0.016765  0.829349   \n",
       "INMSUPR              -0.024140  -0.000802  0.022820  0.014265  0.781108   \n",
       "HIPERTENSION         -0.007628  -0.004799 -0.004964  0.015335  0.835018   \n",
       "OTHER_DISEASE        -0.035404   0.001612  0.022837  0.014175  0.634611   \n",
       "CARDIOVASCULAR       -0.022442  -0.004758  0.019489  0.014378  0.809417   \n",
       "OBESITY              -0.020217  -0.004276  0.015500  0.015895  0.752739   \n",
       "RENAL_CHRONIC        -0.019309  -0.005287  0.020124  0.014392  0.812657   \n",
       "TOBACCO              -0.022428  -0.004325  0.021263  0.010794  0.771763   \n",
       "CLASIFFICATION_FINAL  0.193075   0.075351 -0.152637 -0.057809 -0.004739   \n",
       "ICU                   0.999434   0.079691 -0.317813 -0.087991 -0.009223   \n",
       "DIED                  0.509464   0.026511 -0.320801 -0.079864 -0.018588   \n",
       "\n",
       "                          COPD  ...   INMSUPR  HIPERTENSION  OTHER_DISEASE  \\\n",
       "USMER                 0.011030  ...  0.003234      0.014830      -0.015763   \n",
       "MEDICAL_UNIT          0.014209  ...  0.011785      0.020964       0.027453   \n",
       "SEX                   0.009372  ...  0.007999      0.009257       0.009039   \n",
       "PATIENT_TYPE          0.019548  ...  0.024924      0.006852       0.036724   \n",
       "INTUBED              -0.020124  ... -0.024140     -0.007628      -0.035404   \n",
       "PNEUMONIA            -0.005618  ... -0.000802     -0.004799       0.001612   \n",
       "AGE                   0.019048  ...  0.022820     -0.004964       0.022837   \n",
       "PREGNANT              0.015736  ...  0.014265      0.015335       0.014175   \n",
       "DIABETES              0.828823  ...  0.781108      0.835018       0.634611   \n",
       "COPD                  1.000000  ...  0.852273      0.855249       0.687323   \n",
       "ASTHMA                0.908929  ...  0.868917      0.864264       0.696709   \n",
       "INMSUPR               0.852273  ...  1.000000      0.825158       0.734826   \n",
       "HIPERTENSION          0.855249  ...  0.825158      1.000000       0.671532   \n",
       "OTHER_DISEASE         0.687323  ...  0.734826      0.671532       1.000000   \n",
       "CARDIOVASCULAR        0.880097  ...  0.853365      0.861063       0.717129   \n",
       "OBESITY               0.814868  ...  0.783953      0.805127       0.649809   \n",
       "RENAL_CHRONIC         0.884032  ...  0.852755      0.860477       0.704725   \n",
       "TOBACCO               0.836097  ...  0.806749      0.816539       0.668621   \n",
       "CLASIFFICATION_FINAL -0.010336  ... -0.009412     -0.006020      -0.011143   \n",
       "ICU                  -0.020146  ... -0.024077     -0.007573      -0.035330   \n",
       "DIED                 -0.031488  ... -0.031415     -0.016940      -0.033696   \n",
       "\n",
       "                      CARDIOVASCULAR   OBESITY  RENAL_CHRONIC   TOBACCO  \\\n",
       "USMER                       0.010097  0.014567       0.011527  0.010638   \n",
       "MEDICAL_UNIT                0.014406  0.019577       0.014751  0.012282   \n",
       "SEX                         0.008174  0.009858       0.008249  0.004919   \n",
       "PATIENT_TYPE                0.022175  0.019650       0.018873  0.022123   \n",
       "INTUBED                    -0.022442 -0.020217      -0.019309 -0.022428   \n",
       "PNEUMONIA                  -0.004758 -0.004276      -0.005287 -0.004325   \n",
       "AGE                         0.019489  0.015500       0.020124  0.021263   \n",
       "PREGNANT                    0.014378  0.015895       0.014392  0.010794   \n",
       "DIABETES                    0.809417  0.752739       0.812657  0.771763   \n",
       "COPD                        0.880097  0.814868       0.884032  0.836097   \n",
       "ASTHMA                      0.891026  0.824631       0.895050  0.845067   \n",
       "INMSUPR                     0.853365  0.783953       0.852755  0.806749   \n",
       "HIPERTENSION                0.861063  0.805127       0.860477  0.816539   \n",
       "OTHER_DISEASE               0.717129  0.649809       0.704725  0.668621   \n",
       "CARDIOVASCULAR              1.000000  0.834389       0.913248  0.858102   \n",
       "OBESITY                     0.834389  1.000000       0.842466  0.801834   \n",
       "RENAL_CHRONIC               0.913248  0.842466       1.000000  0.868761   \n",
       "TOBACCO                     0.858102  0.801834       0.868761  1.000000   \n",
       "CLASIFFICATION_FINAL       -0.012143 -0.006924      -0.011342 -0.012567   \n",
       "ICU                        -0.022413 -0.020254      -0.019285 -0.022445   \n",
       "DIED                       -0.032237 -0.029479      -0.029907 -0.031958   \n",
       "\n",
       "                      CLASIFFICATION_FINAL       ICU      DIED  \n",
       "USMER                             0.028840  0.174901  0.112671  \n",
       "MEDICAL_UNIT                      0.079981  0.205141  0.149030  \n",
       "SEX                              -0.057782 -0.089844 -0.081383  \n",
       "PATIENT_TYPE                     -0.183370 -0.975810 -0.515582  \n",
       "INTUBED                           0.193075  0.999434  0.509464  \n",
       "PNEUMONIA                         0.075351  0.079691  0.026511  \n",
       "AGE                              -0.152637 -0.317813 -0.320801  \n",
       "PREGNANT                         -0.057809 -0.087991 -0.079864  \n",
       "DIABETES                         -0.004739 -0.009223 -0.018588  \n",
       "COPD                             -0.010336 -0.020146 -0.031488  \n",
       "ASTHMA                           -0.011178 -0.023415 -0.033924  \n",
       "INMSUPR                          -0.009412 -0.024077 -0.031415  \n",
       "HIPERTENSION                     -0.006020 -0.007573 -0.016940  \n",
       "OTHER_DISEASE                    -0.011143 -0.035330 -0.033696  \n",
       "CARDIOVASCULAR                   -0.012143 -0.022413 -0.032237  \n",
       "OBESITY                          -0.006924 -0.020254 -0.029479  \n",
       "RENAL_CHRONIC                    -0.011342 -0.019285 -0.029907  \n",
       "TOBACCO                          -0.012567 -0.022445 -0.031958  \n",
       "CLASIFFICATION_FINAL              1.000000  0.193163  0.196085  \n",
       "ICU                               0.193163  1.000000  0.508414  \n",
       "DIED                              0.196085  0.508414  1.000000  \n",
       "\n",
       "[21 rows x 21 columns]"
      ]
     },
     "execution_count": 14,
     "metadata": {},
     "output_type": "execute_result"
    }
   ],
   "source": [
    "cormat=df.corr()\n",
    "cormat"
   ]
  },
  {
   "cell_type": "code",
   "execution_count": 14,
   "metadata": {
    "executionInfo": {
     "elapsed": 13,
     "status": "ok",
     "timestamp": 1672575644236,
     "user": {
      "displayName": "Komal Rethi",
      "userId": "17481055191155146212"
     },
     "user_tz": -330
    },
    "id": "KMlBOplR89qR"
   },
   "outputs": [],
   "source": []
  },
  {
   "cell_type": "code",
   "execution_count": 15,
   "metadata": {
    "executionInfo": {
     "elapsed": 11,
     "status": "ok",
     "timestamp": 1672575644237,
     "user": {
      "displayName": "Komal Rethi",
      "userId": "17481055191155146212"
     },
     "user_tz": -330
    },
    "id": "XrksSZ1m89xj"
   },
   "outputs": [],
   "source": [
    "X = data.iloc[:,:-1]\n",
    "y = data.iloc[:,-1]"
   ]
  },
  {
   "cell_type": "code",
   "execution_count": 16,
   "metadata": {
    "colab": {
     "base_uri": "https://localhost:8080/"
    },
    "executionInfo": {
     "elapsed": 185638,
     "status": "ok",
     "timestamp": 1672575829865,
     "user": {
      "displayName": "Komal Rethi",
      "userId": "17481055191155146212"
     },
     "user_tz": -330
    },
    "id": "rqat9T3S891J",
    "outputId": "5507d18d-84e0-4298-817d-db90d87bed2a"
   },
   "outputs": [
    {
     "data": {
      "text/plain": [
       "ExtraTreesRegressor(random_state=0)"
      ]
     },
     "execution_count": 16,
     "metadata": {},
     "output_type": "execute_result"
    }
   ],
   "source": [
    "from sklearn.ensemble import ExtraTreesRegressor\n",
    "import matplotlib.pyplot as plt\n",
    "model = ExtraTreesRegressor(random_state=0)\n",
    "model.fit(X,y)"
   ]
  },
  {
   "cell_type": "code",
   "execution_count": 25,
   "metadata": {
    "colab": {
     "base_uri": "https://localhost:8080/"
    },
    "executionInfo": {
     "elapsed": 10,
     "status": "ok",
     "timestamp": 1672575844681,
     "user": {
      "displayName": "Komal Rethi",
      "userId": "17481055191155146212"
     },
     "user_tz": -330
    },
    "id": "V9NuG1349YPf",
    "outputId": "6eaf8580-27e8-4874-cd2f-05d5ee93f0e9"
   },
   "outputs": [
    {
     "data": {
      "text/plain": [
       "array([0.01702544, 0.03976605, 0.00540794, 0.35025561, 0.10802519,\n",
       "       0.03967587, 0.20011237, 0.0045041 , 0.02515677, 0.01152912,\n",
       "       0.00749122, 0.01015146, 0.0253844 , 0.01449624, 0.0131267 ,\n",
       "       0.02237281, 0.01373975, 0.01698844, 0.05987507, 0.01491542])"
      ]
     },
     "execution_count": 25,
     "metadata": {},
     "output_type": "execute_result"
    }
   ],
   "source": [
    "model.feature_importances_"
   ]
  },
  {
   "cell_type": "code",
   "execution_count": 26,
   "metadata": {
    "colab": {
     "base_uri": "https://localhost:8080/"
    },
    "executionInfo": {
     "elapsed": 1277,
     "status": "ok",
     "timestamp": 1672575845949,
     "user": {
      "displayName": "Komal Rethi",
      "userId": "17481055191155146212"
     },
     "user_tz": -330
    },
    "id": "Lw7v2Iar9ap9",
    "outputId": "f29bdb94-16fc-49bc-daa5-b5c769641cb7"
   },
   "outputs": [
    {
     "data": {
      "text/plain": [
       "7"
      ]
     },
     "execution_count": 26,
     "metadata": {},
     "output_type": "execute_result"
    }
   ],
   "source": [
    "np.argmin(model.feature_importances_)"
   ]
  },
  {
   "cell_type": "code",
   "execution_count": 26,
   "metadata": {
    "executionInfo": {
     "elapsed": 3,
     "status": "ok",
     "timestamp": 1672575847890,
     "user": {
      "displayName": "Komal Rethi",
      "userId": "17481055191155146212"
     },
     "user_tz": -330
    },
    "id": "5y4z3fzhBibX"
   },
   "outputs": [],
   "source": []
  },
  {
   "cell_type": "code",
   "execution_count": 26,
   "metadata": {
    "executionInfo": {
     "elapsed": 1,
     "status": "ok",
     "timestamp": 1672575848763,
     "user": {
      "displayName": "Komal Rethi",
      "userId": "17481055191155146212"
     },
     "user_tz": -330
    },
    "id": "1e2dCtdkBie7"
   },
   "outputs": [],
   "source": []
  },
  {
   "cell_type": "code",
   "execution_count": 27,
   "metadata": {
    "executionInfo": {
     "elapsed": 3,
     "status": "ok",
     "timestamp": 1672575849556,
     "user": {
      "displayName": "Komal Rethi",
      "userId": "17481055191155146212"
     },
     "user_tz": -330
    },
    "id": "EoVx1CbG-r49"
   },
   "outputs": [],
   "source": [
    "from sklearn.model_selection import train_test_split\n",
    "X_train, X_test, y_train, y_test = train_test_split(X, y,test_size=0.2,stratify=y, random_state=0)"
   ]
  },
  {
   "cell_type": "code",
   "execution_count": 28,
   "metadata": {
    "executionInfo": {
     "elapsed": 3,
     "status": "ok",
     "timestamp": 1672575850380,
     "user": {
      "displayName": "Komal Rethi",
      "userId": "17481055191155146212"
     },
     "user_tz": -330
    },
    "id": "3J09IwY1-r8j"
   },
   "outputs": [],
   "source": [
    "from sklearn.preprocessing import StandardScaler,MinMaxScaler,RobustScaler,MaxAbsScaler\n",
    "scaler = StandardScaler()\n",
    "# scaler = MaxAbsScaler()\n",
    "X_train_scaled = scaler.fit_transform(X_train)\n",
    "X_test_scaled = scaler.transform(X_test)"
   ]
  },
  {
   "cell_type": "code",
   "execution_count": 29,
   "metadata": {
    "executionInfo": {
     "elapsed": 3,
     "status": "ok",
     "timestamp": 1672575850380,
     "user": {
      "displayName": "Komal Rethi",
      "userId": "17481055191155146212"
     },
     "user_tz": -330
    },
    "id": "6U8HeEct-vOh"
   },
   "outputs": [],
   "source": [
    "from sklearn.linear_model import LogisticRegression"
   ]
  },
  {
   "cell_type": "code",
   "execution_count": 30,
   "metadata": {
    "colab": {
     "base_uri": "https://localhost:8080/"
    },
    "executionInfo": {
     "elapsed": 10806,
     "status": "ok",
     "timestamp": 1672575862005,
     "user": {
      "displayName": "Komal Rethi",
      "userId": "17481055191155146212"
     },
     "user_tz": -330
    },
    "id": "UkMx4fnq-yRQ",
    "outputId": "6ba69a7c-157a-45ca-c2f2-41c33267268f"
   },
   "outputs": [
    {
     "data": {
      "text/plain": [
       "LogisticRegression(max_iter=1000)"
      ]
     },
     "execution_count": 30,
     "metadata": {},
     "output_type": "execute_result"
    }
   ],
   "source": [
    "mod = LogisticRegression(max_iter=1000)\n",
    "mod.fit(X_train_scaled,y_train)"
   ]
  },
  {
   "cell_type": "code",
   "execution_count": 31,
   "metadata": {
    "executionInfo": {
     "elapsed": 15,
     "status": "ok",
     "timestamp": 1672575862006,
     "user": {
      "displayName": "Komal Rethi",
      "userId": "17481055191155146212"
     },
     "user_tz": -330
    },
    "id": "b5fCBXfu-0Hl"
   },
   "outputs": [],
   "source": [
    "y_pred = mod.predict(X_test_scaled)"
   ]
  },
  {
   "cell_type": "code",
   "execution_count": 32,
   "metadata": {
    "executionInfo": {
     "elapsed": 15,
     "status": "ok",
     "timestamp": 1672575862006,
     "user": {
      "displayName": "Komal Rethi",
      "userId": "17481055191155146212"
     },
     "user_tz": -330
    },
    "id": "OzZVXuaR-3x0"
   },
   "outputs": [],
   "source": [
    "from sklearn.metrics import accuracy_score, mean_squared_error\n",
    "accuracy = accuracy_score(y_pred,y_test)\n",
    "loss = mean_squared_error(y_pred,y_test)"
   ]
  },
  {
   "cell_type": "code",
   "execution_count": 33,
   "metadata": {
    "colab": {
     "base_uri": "https://localhost:8080/"
    },
    "executionInfo": {
     "elapsed": 14,
     "status": "ok",
     "timestamp": 1672575862006,
     "user": {
      "displayName": "Komal Rethi",
      "userId": "17481055191155146212"
     },
     "user_tz": -330
    },
    "id": "66bYapEm-7BF",
    "outputId": "6302daa2-5342-429b-9b70-42499b988e87"
   },
   "outputs": [
    {
     "name": "stdout",
     "output_type": "stream",
     "text": [
      "Accuracy:  0.9361848222587797\n",
      "loss:  0.06381517774122022\n"
     ]
    }
   ],
   "source": [
    "print(\"Accuracy: \", accuracy)\n",
    "print(\"loss: \", loss)"
   ]
  },
  {
   "cell_type": "code",
   "execution_count": null,
   "metadata": {
    "id": "4xpEEpUR_D8t"
   },
   "outputs": [],
   "source": []
  },
  {
   "cell_type": "code",
   "execution_count": 39,
   "metadata": {
    "executionInfo": {
     "elapsed": 548,
     "status": "ok",
     "timestamp": 1672576371489,
     "user": {
      "displayName": "Komal Rethi",
      "userId": "17481055191155146212"
     },
     "user_tz": -330
    },
    "id": "94eS2SdXAxXI"
   },
   "outputs": [],
   "source": [
    "from sklearn.ensemble import RandomForestClassifier\n",
    "clf = RandomForestClassifier(random_state=42,n_estimators=100)"
   ]
  },
  {
   "cell_type": "code",
   "execution_count": null,
   "metadata": {
    "colab": {
     "background_save": true
    },
    "id": "LEuH5vjqAxan"
   },
   "outputs": [
    {
     "name": "stderr",
     "output_type": "stream",
     "text": [
      "/usr/local/lib/python3.8/dist-packages/sklearn/linear_model/_logistic.py:814: ConvergenceWarning: lbfgs failed to converge (status=1):\n",
      "STOP: TOTAL NO. of ITERATIONS REACHED LIMIT.\n",
      "\n",
      "Increase the number of iterations (max_iter) or scale the data as shown in:\n",
      "    https://scikit-learn.org/stable/modules/preprocessing.html\n",
      "Please also refer to the documentation for alternative solver options:\n",
      "    https://scikit-learn.org/stable/modules/linear_model.html#logistic-regression\n",
      "  n_iter_i = _check_optimize_result(\n"
     ]
    }
   ],
   "source": [
    "mod.fit(X_train,y_train)\n",
    "y_pred = mod.predict(X_test)"
   ]
  },
  {
   "cell_type": "code",
   "execution_count": 36,
   "metadata": {
    "executionInfo": {
     "elapsed": 10,
     "status": "ok",
     "timestamp": 1672576005180,
     "user": {
      "displayName": "Komal Rethi",
      "userId": "17481055191155146212"
     },
     "user_tz": -330
    },
    "id": "TK1NymrrCHE1"
   },
   "outputs": [],
   "source": [
    "accuracy = accuracy_score(y_pred,y_test)\n",
    "loss = mean_squared_error(y_pred,y_test)"
   ]
  },
  {
   "cell_type": "code",
   "execution_count": null,
   "metadata": {
    "colab": {
     "base_uri": "https://localhost:8080/"
    },
    "executionInfo": {
     "elapsed": 17,
     "status": "ok",
     "timestamp": 1672573629625,
     "user": {
      "displayName": "Komal Rethi",
      "userId": "17481055191155146212"
     },
     "user_tz": -330
    },
    "id": "XZ6KfgiaCKtH",
    "outputId": "163ac0b6-1c6a-4101-c81d-04fac87def96"
   },
   "outputs": [
    {
     "name": "stdout",
     "output_type": "stream",
     "text": [
      "Accuracy:  0.9360226974703765\n",
      "loss:  0.06397730252962354\n"
     ]
    }
   ],
   "source": [
    "print(\"Accuracy: \", accuracy)\n",
    "print(\"loss: \", loss)"
   ]
  },
  {
   "cell_type": "code",
   "execution_count": null,
   "metadata": {
    "id": "3dYm_S-kCM-F"
   },
   "outputs": [],
   "source": []
  },
  {
   "cell_type": "code",
   "execution_count": null,
   "metadata": {
    "id": "QTf5vFsRE1CJ"
   },
   "outputs": [],
   "source": [
    "from sklearn.ensemble import RandomForestRegressor\n",
    "rf = RandomForestRegressor(random_state=0)"
   ]
  },
  {
   "cell_type": "code",
   "execution_count": null,
   "metadata": {
    "id": "YkX_CvTfE1Eh"
   },
   "outputs": [],
   "source": [
    "# Number of trees in random forest\n",
    "n_estimators = [int(x) for x in np.linspace(start = 100, stop = 1200, num = 12)]\n",
    "# Number of features to consider at every split\n",
    "max_features = ['auto', 'sqrt']\n",
    "# Maximum number of levels in tree\n",
    "max_depth = [int(x) for x in np.linspace(5, 30, num = 6)]\n",
    "# max_depth.append(None)\n",
    "# Minimum number of samples required to split a node\n",
    "min_samples_split = [2, 5, 10, 15, 100]\n",
    "# Minimum number of samples required at each leaf node\n",
    "min_samples_leaf = [1, 2, 5, 10]"
   ]
  },
  {
   "cell_type": "code",
   "execution_count": null,
   "metadata": {
    "colab": {
     "base_uri": "https://localhost:8080/"
    },
    "executionInfo": {
     "elapsed": 510,
     "status": "ok",
     "timestamp": 1672573673971,
     "user": {
      "displayName": "Komal Rethi",
      "userId": "17481055191155146212"
     },
     "user_tz": -330
    },
    "id": "6e3va_K1E1Hn",
    "outputId": "58975cc5-92f1-4c68-f8c4-98abdc433c5a"
   },
   "outputs": [
    {
     "name": "stdout",
     "output_type": "stream",
     "text": [
      "{'n_estimators': [100, 200, 300, 400, 500, 600, 700, 800, 900, 1000, 1100, 1200], 'max_features': ['auto', 'sqrt'], 'max_depth': [5, 10, 15, 20, 25, 30], 'min_samples_split': [2, 5, 10, 15, 100], 'min_samples_leaf': [1, 2, 5, 10]}\n"
     ]
    }
   ],
   "source": [
    "random_grid = {'n_estimators': n_estimators,\n",
    "               'max_features': max_features,\n",
    "               'max_depth': max_depth,\n",
    "               'min_samples_split': min_samples_split,\n",
    "               'min_samples_leaf': min_samples_leaf}\n",
    "\n",
    "print(random_grid)"
   ]
  },
  {
   "cell_type": "code",
   "execution_count": null,
   "metadata": {
    "id": "tm2wSd4xFBDN"
   },
   "outputs": [],
   "source": [
    "from sklearn.model_selection import RandomizedSearchCV\n",
    "rf_random = RandomizedSearchCV(estimator = rf, param_distributions = random_grid,scoring='neg_mean_squared_error',n_iter = 10, cv = 5, verbose=2, random_state=0)\n"
   ]
  },
  {
   "cell_type": "code",
   "execution_count": null,
   "metadata": {
    "colab": {
     "base_uri": "https://localhost:8080/"
    },
    "id": "j9gZZH-XFD2H",
    "outputId": "ae6392cd-6c84-4bbf-9fe8-def87dd69532"
   },
   "outputs": [
    {
     "name": "stdout",
     "output_type": "stream",
     "text": [
      "Fitting 5 folds for each of 10 candidates, totalling 50 fits\n",
      "[CV] END max_depth=30, max_features=sqrt, min_samples_leaf=2, min_samples_split=10, n_estimators=900; total time= 7.1min\n",
      "[CV] END max_depth=30, max_features=sqrt, min_samples_leaf=2, min_samples_split=10, n_estimators=900; total time= 8.2min\n"
     ]
    }
   ],
   "source": [
    "rf_random.fit(X_train,y_train)"
   ]
  },
  {
   "cell_type": "code",
   "execution_count": null,
   "metadata": {
    "id": "WaqI9CZ9FHw2"
   },
   "outputs": [],
   "source": []
  }
 ],
 "metadata": {
  "accelerator": "GPU",
  "colab": {
   "authorship_tag": "ABX9TyNZm7XkP2ZYvETwuTkxEJ6v",
   "name": "",
   "version": ""
  },
  "gpuClass": "standard",
  "kernelspec": {
   "display_name": "Python 3 (ipykernel)",
   "language": "python",
   "name": "python3"
  },
  "language_info": {
   "codemirror_mode": {
    "name": "ipython",
    "version": 3
   },
   "file_extension": ".py",
   "mimetype": "text/x-python",
   "name": "python",
   "nbconvert_exporter": "python",
   "pygments_lexer": "ipython3",
   "version": "3.9.13"
  }
 },
 "nbformat": 4,
 "nbformat_minor": 1
}
